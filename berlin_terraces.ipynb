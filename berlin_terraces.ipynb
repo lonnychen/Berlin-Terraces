{
 "cells": [
  {
   "cell_type": "markdown",
   "id": "37460abf",
   "metadata": {},
   "source": [
    "# Berlin Terraces - Decision Tree\n",
    "\n",
    "**Author:** Lonny Chen<br>\n",
    "**Contact:** lonny.cl.chen@gmail.com<br>\n",
    "**Repository:** https://github.com/lonnychen/Berlin-Terraces<br>\n",
    "**Last Updated:** 1 June, 2021\n",
    "\n",
    "This data mini-project attempts to answer the predictive question of:\n",
    "\n",
    "> ### *How do I find the sun terraces in Berlin?*\n",
    "\n",
    "Inspirational tagline:\n",
    "\n",
    "> ### *Meet me on my ter{1,2}a(c|s){1,2}e?*\n",
    "\n",
    "**Motivation:**<br>\n",
    "1. Demonstrate beginning data science and Python coding skills as my \"evidence of technical training\" upload for my application to the Hertie School's Master of Data Science for Public Policy program. My learning path was largely informed by chapters three and four of \"Data Science: Concepts and Practice\" by Vijay Kotu and Bala Deshpande ([amazon](https://www.amazon.ca/Predictive-Analytics-Data-Mining-Concepts/dp/012814761X), [official](http://www.introdatascience.com/)), materials found in Huy Ngoc Dang's [repository](https://github.com/huydang90/Hertie-School-Data-Science-Society) for the Hertie School Data Science Society, and the data science core skils learning path on [Real Python](https://realpython.com/learning-paths/data-science-python-core-skills/). Also, a very honorable mention to [Jason Brownlee PhD](https://machinelearningmastery.com/) for his articles and reference code provided to explain important machine learning concepts.\n",
    "2. Learn a bit about neighborhoods (or at least districts in this iteration) in [Berlin](https://www.visitberlin.de/en/neighbourhoods-berlin) and have some fun browsing nice photos of terraces on Airbnb.com. This was inspired after hearing about the attractive idea of renting apartments with \"sun terraces\" in Berlin during a Hertie School information session which seemed possible but not entirely common. Perhaps this could be a simple, not too profound, exercise for learning more about predictive algorithms using a real-world dataset?\n",
    "\n",
    "**Summary of Findings**:<br>\n",
    "From data exploration, the best potential features for predicting terraces:\n",
    "> - Higher prices\n",
    "> - More consistent high ratings\n",
    "> - District: best best is Pankow, worse bet is Neukölln\n",
    "> - Room type: best best is Entire room/apt, much better than Private room<br>\n",
    "\n",
    "Interesting observation:\n",
    "- There is a negative correlation between price and the **range** of ratings, or in plain English:\n",
    "> *Pricier listings have more exclusively high ratings, and lower prices have more mixed quality.*\n",
    "\n",
    "From decision tree building, evaluation, and optimization, the most important features for predicting terraces are showing to be (needs deeper analysis):\n",
    "> 1. Rating\n",
    "> 2. Price\n",
    "> 3. Is the listing in Friedrichshain-Kreuzberg?\n",
    "> 4. Is the listing in Pankow?\n",
    "> 5. Is the listing in Charlottenburg-Wilmersdorf?\n",
    "\n",
    "**Dataset:**<br>\n",
    "The [Inside Airbnb](http://insideairbnb.com/about.html) project, created by Murray Cox, provides publicly available datasets of Airbnb rental listings in different cities around the world including Berlin. At a high-level:\n",
    "- Advantage: a real-world, regularly updated, dataset (>15k listings) that is location-specific to Berlin,\n",
    "- Disadvantage: not an exact picture of the longer-term rental housing market in Berlin<br>\n",
    "\n",
    "Others have executed data projects using Airbnb Berlin data and I have used their work as references frequently:\n",
    "1. Jesper Dramsch on [Kaggle](https://www.kaggle.com/jesperdramsch/berlin-airbnbs-is-it-really-all-about-location?scriptVersionId=39421424)\n",
    "2. Katherine Edgley on [towards data science](https://towardsdatascience.com/a-visual-data-driven-look-at-airbnb-hosting-in-berlin-729eccd8bf9d)\n",
    "\n",
    "**Technique - Decision Trees:** <br>\n",
    "- Idea: *Recursive partitioning*<br>\n",
    "- Math: [Shannon Entropy (h)](https://www.youtube.com/watch?v=9r7FIXEAGvs), [Information Gain (IG)](https://www.youtube.com/watch?v=IPkRVpXtbdY)<br>\n",
    "- Tuning parametres: decision criterion (Gini, Entropy), pre/post-pruning STOP [conditions](https://scikit-learn.org/stable/modules/tree.html#tips-on-practical-use)<br>\n",
    "- Advantages: white box (explanatory), robust versus missing, outlier, un-scaled data<br>\n",
    "- Disadvantage: **overfits** data if tree model not pruned<br>\n",
    "\n",
    "**Process Steps:**<br>\n",
    "1. **Prepare data:** data cleaning, feature engineering\n",
    "2. **Data exploration:** uni/multivariate exploration on numerical, categorical features\n",
    "3. **Pre-process data:** split, encode\n",
    "4. **Build model:** fit, plot tree, feature importance\n",
    "5. **Evaluate model:** confusion matrix\n",
    "6. **Optimize model:** tuning parameters, cross-validation<br>\n",
    "\n",
    "**Possible Next Steps:**<br>\n",
    "- [Nested cross-validation](https://scikit-learn.org/stable/auto_examples/model_selection/plot_nested_cross_validation_iris.html), seemingly the state-of-the-art method to really test out an optimized model\n",
    "- Map the Berlin districts with terrace True vs False information to explore the geo-spatial differences between districts\n",
    "- try \"neighourhood\" as a feature or would 138 different features crash the tool?\n",
    "- engineer these features as inputs into the decision tree algorithm:\n",
    "    - \"distance from centre\" using latitude and latitude variables\n",
    "    - \"property\" from current property type variable"
   ]
  },
  {
   "cell_type": "markdown",
   "id": "eddb5058",
   "metadata": {},
   "source": [
    "## Import packages, functions, and classes\n",
    "**Python Libraries:**\n",
    "- NumPy, Pandas\n",
    "- Matplotlib\n",
    "- Scikit-learn [decision trees](https://scikit-learn.org/stable/modules/tree.html)<br>\n",
    "- Math, Regular Expressions"
   ]
  },
  {
   "cell_type": "code",
   "execution_count": 1,
   "id": "ffb5b3db",
   "metadata": {},
   "outputs": [],
   "source": [
    "import numpy as np\n",
    "import pandas as pd\n",
    "\n",
    "import matplotlib.pyplot as plt\n",
    "plt.style.use('ggplot')\n",
    "import math #needed for floor, ceil in plotting setup functions\n",
    "\n",
    "import re #regular expressions library\n",
    "\n",
    "#scikit-learn imports\n",
    "from sklearn.model_selection import train_test_split\n",
    "from sklearn.preprocessing import OneHotEncoder, LabelEncoder\n",
    "from sklearn.tree import DecisionTreeClassifier, plot_tree\n",
    "from sklearn.inspection import permutation_importance\n",
    "from sklearn.metrics import accuracy_score, confusion_matrix, plot_confusion_matrix, classification_report\n",
    "from sklearn.model_selection import GridSearchCV\n",
    "\n",
    "#Output mode switching: show all or only \"last expression\" (default)\n",
    "from IPython.core.interactiveshell import InteractiveShell\n",
    "InteractiveShell.ast_node_interactivity = 'all'\n",
    "#InteractiveShell.ast_node_interactivity = 'last_expr'"
   ]
  },
  {
   "cell_type": "markdown",
   "id": "cd203351",
   "metadata": {},
   "source": [
    "## 1. Prepare data\n",
    "### Read from CSV\n",
    "Read in **Berlin** dataset downloaded from http://insideairbnb.com/get-the-data.html.<br>\n",
    "- dataset date: 12 March, 2021\n",
    "- number of listings: 19,858\n",
    "- dataset has 74 columns so I only read in columns that may be useful to predict terraces:\n",
    "    - name: the listing heading\n",
    "    - description: a paragraph pitch that shows up in the listings' \"About this space\" pop-up window\n",
    "    - neighourhood\\*: from the very useful [data dictionary](https://docs.google.com/spreadsheets/d/1iWCNJcSutYqpULSQHlNyGInUvHg2BoUGoNRIGa6Szc4/edit) provided by Airbnb: *Neighbourhood names for each listing are compiled by comparing the listing's geographic coordinates with a city's definition of neighbourhoods.* There are 12 unique neighbourhood groups (districts) and 138 unique neighbourhoods.\n",
    "    - latitude, longitude: feature engineer \"distance to centre\" in a future iteration perhaps\n",
    "    - property_type: 68 unique types with \"room_type\" prefixes\n",
    "    - room_type: the four different types of rental formats described [here](https://www.airbnb.com/help/article/5/how-do-i-choose-what-type-of-place-to-stay)\n",
    "    - amenities: a JSON string of different amenities available\n",
    "    - price: per night price in Euros\n",
    "    - number_of_reviews: useful for data cleaning\n",
    "    - review_scores_rating: out of 100, a potentially interesting second numerical feature along with price"
   ]
  },
  {
   "cell_type": "code",
   "execution_count": 2,
   "id": "ebeaef58",
   "metadata": {},
   "outputs": [
    {
     "name": "stdout",
     "output_type": "stream",
     "text": [
      "<class 'pandas.core.frame.DataFrame'>\n",
      "RangeIndex: 19858 entries, 0 to 19857\n",
      "Data columns (total 12 columns):\n",
      " #   Column                        Non-Null Count  Dtype  \n",
      "---  ------                        --------------  -----  \n",
      " 0   name                          19826 non-null  object \n",
      " 1   description                   19292 non-null  object \n",
      " 2   neighbourhood_cleansed        19858 non-null  object \n",
      " 3   neighbourhood_group_cleansed  19858 non-null  object \n",
      " 4   latitude                      19858 non-null  float64\n",
      " 5   longitude                     19858 non-null  float64\n",
      " 6   property_type                 19858 non-null  object \n",
      " 7   room_type                     19858 non-null  object \n",
      " 8   amenities                     19858 non-null  object \n",
      " 9   price                         19858 non-null  object \n",
      " 10  number_of_reviews             19858 non-null  int64  \n",
      " 11  review_scores_rating          15362 non-null  float64\n",
      "dtypes: float64(3), int64(1), object(8)\n",
      "memory usage: 1.8+ MB\n"
     ]
    }
   ],
   "source": [
    "csv_columns = ['name', 'description', 'neighbourhood_cleansed', 'neighbourhood_group_cleansed', 'latitude', 'longitude',\n",
    "              'property_type', 'room_type', 'amenities', 'price', 'number_of_reviews', 'review_scores_rating']\n",
    "df_berlin = pd.read_csv('./data/berlin_listings_detailed.csv', usecols=csv_columns)\n",
    "df_berlin.info()"
   ]
  },
  {
   "cell_type": "markdown",
   "id": "bd927332",
   "metadata": {},
   "source": [
    "### Data Cleaning\n",
    "\n",
    "Performing various data cleaning tasks:\n",
    "- column names: neighbourhood, district (or borough)\n",
    "- missing values:\n",
    "    - description (566): \"About the space\" is optional so KEEP these entries and fill with \"No description\"\n",
    "    - name (32): also optional so KEEP/fill\n",
    "    - review_scores_rating (4496): DROP (all number_of_reviews = 0)\n",
    "- fix values: (referenced code from Jesper Dramsch on [Kaggle](https://www.kaggle.com/jesperdramsch/berlin-airbnbs-is-it-really-all-about-location?scriptVersionId=39421424))\n",
    "    - district: remove whitespace and complete one district name\n",
    "    - price: remove dollar sign and comma\n",
    "- data types:\n",
    "    - change finite \"nunique\" strings to **category**\n",
    "    - change some floats to int (required missing/fix steps first!)\n",
    "    \n",
    "**Python:**\n",
    "- `fillna`, `dropna` (column as subset!)\n",
    "- string methods\n",
    "- data type conversion"
   ]
  },
  {
   "cell_type": "code",
   "execution_count": 3,
   "id": "9ff4250b",
   "metadata": {},
   "outputs": [
    {
     "name": "stdout",
     "output_type": "stream",
     "text": [
      "<class 'pandas.core.frame.DataFrame'>\n",
      "Int64Index: 15362 entries, 0 to 19851\n",
      "Data columns (total 12 columns):\n",
      " #   Column             Non-Null Count  Dtype   \n",
      "---  ------             --------------  -----   \n",
      " 0   name               15362 non-null  object  \n",
      " 1   description        15362 non-null  object  \n",
      " 2   neighbourhood      15362 non-null  category\n",
      " 3   district           15362 non-null  category\n",
      " 4   latitude           15362 non-null  float64 \n",
      " 5   longitude          15362 non-null  float64 \n",
      " 6   property_type      15362 non-null  category\n",
      " 7   room_type          15362 non-null  category\n",
      " 8   amenities          15362 non-null  object  \n",
      " 9   price              15362 non-null  int64   \n",
      " 10  number_of_reviews  15362 non-null  int64   \n",
      " 11  rating             15362 non-null  int64   \n",
      "dtypes: category(4), float64(2), int64(3), object(3)\n",
      "memory usage: 1.1+ MB\n"
     ]
    }
   ],
   "source": [
    "# rename for clarity\n",
    "df_berlin.rename(columns={\n",
    "    'neighbourhood_cleansed': 'neighbourhood',\n",
    "    'neighbourhood_group_cleansed': 'district',\n",
    "    'review_scores_rating': 'rating'}, inplace=True)\n",
    "\n",
    "# missing values (careful with inplace!)\n",
    "df_berlin['description'].fillna('No description', inplace=True)\n",
    "df_berlin['name'].fillna('No name', inplace=True)\n",
    "df_berlin.dropna(axis=0, subset=['rating'], inplace=True)\n",
    "\n",
    "# fix values\n",
    "df_berlin['district'] = df_berlin['district'].str.replace(\" \", \"\")\n",
    "df_berlin['district'] = df_berlin['district'].replace(\"Charlottenburg-Wilm.\", \"Charlottenburg-Wilmersdorf\")\n",
    "df_berlin['price'] = pd.to_numeric(df_berlin['price'].apply(\n",
    "    lambda x: x.replace(\"$\", \"\").replace(\",\",\"\")))\n",
    "\n",
    "# data types\n",
    "columns_obj2cat = ['neighbourhood', 'district', 'property_type', 'room_type']\n",
    "df_berlin[columns_obj2cat] = df_berlin[columns_obj2cat].astype('category')\n",
    "columns_flt2int = ['price', 'rating']\n",
    "df_berlin[columns_flt2int] = df_berlin[columns_flt2int].astype('int')\n",
    "\n",
    "df_berlin.info()"
   ]
  },
  {
   "cell_type": "markdown",
   "id": "397647fb",
   "metadata": {},
   "source": [
    "### Feature Engineering\n",
    "\n",
    "We need to construct or \"engineer\" a class label for whether we think there is a **terrace** available in each listing. Considerations:\n",
    "- NO to amenities: look for \"Patio or balcony\" in JSON string of pre-defined amenities elements\n",
    "    - sampled five listings and none of these showed photos of a larger elevated space with panoramic access to the sky (admittedly, a crude definition of \"terrace\")\n",
    "- YES to description: look for the word \"terrace\" in host-written description\n",
    "    - sampled seven listings and four showed what I would consider a sun terrace (they all looked great!)\n",
    "    - there will be some \"false positives\" here such as descriptions which say something like \"many restaurants with terraces in the area\"\n",
    "- YES to name: look for listings where the word \"terrace\" is in listing name but not in the description\n",
    "    - sampled five such listings and indeed four showed photos of terraces\n",
    "- INCLUDE! - German word of \"terrasse\", and misspellings in both languages\n",
    "    - indeed, a few more positives came up!\n",
    "\n",
    "**Python:**\n",
    "- \"in\" search operator returns boolean!\n",
    "- my old friend from Perl, **regular expressions!**, comes in very handy for parsing open-ended (unstructured) text data\n",
    "- Pandas `value_counts()` very useful for inline sanity checks of resulting data\n",
    "- logical operators (symbols for and, or, not) inside Pandas indexing"
   ]
  },
  {
   "cell_type": "code",
   "execution_count": 4,
   "id": "9b96da97",
   "metadata": {},
   "outputs": [
    {
     "data": {
      "text/html": [
       "<div>\n",
       "<style scoped>\n",
       "    .dataframe tbody tr th:only-of-type {\n",
       "        vertical-align: middle;\n",
       "    }\n",
       "\n",
       "    .dataframe tbody tr th {\n",
       "        vertical-align: top;\n",
       "    }\n",
       "\n",
       "    .dataframe thead tr th {\n",
       "        text-align: left;\n",
       "    }\n",
       "\n",
       "    .dataframe thead tr:last-of-type th {\n",
       "        text-align: right;\n",
       "    }\n",
       "</style>\n",
       "<table border=\"1\" class=\"dataframe\">\n",
       "  <thead>\n",
       "    <tr>\n",
       "      <th></th>\n",
       "      <th colspan=\"2\" halign=\"left\">0</th>\n",
       "    </tr>\n",
       "    <tr>\n",
       "      <th>terrace_name</th>\n",
       "      <th>False</th>\n",
       "      <th>True</th>\n",
       "    </tr>\n",
       "    <tr>\n",
       "      <th>terrace_description</th>\n",
       "      <th></th>\n",
       "      <th></th>\n",
       "    </tr>\n",
       "  </thead>\n",
       "  <tbody>\n",
       "    <tr>\n",
       "      <th>False</th>\n",
       "      <td>14653</td>\n",
       "      <td>28</td>\n",
       "    </tr>\n",
       "    <tr>\n",
       "      <th>True</th>\n",
       "      <td>563</td>\n",
       "      <td>118</td>\n",
       "    </tr>\n",
       "  </tbody>\n",
       "</table>\n",
       "</div>"
      ],
      "text/plain": [
       "                         0      \n",
       "terrace_name         False True \n",
       "terrace_description             \n",
       "False                14653    28\n",
       "True                   563   118"
      ]
     },
     "execution_count": 4,
     "metadata": {},
     "output_type": "execute_result"
    }
   ],
   "source": [
    "# Look for \"Patio or balcony\"\n",
    "df_berlin['patio_balcony'] = df_berlin['amenities'].apply(\n",
    "    lambda x: \"Patio or balcony\" in x)\n",
    "\n",
    "# Look for \"terrace\", \"terrasse\", and misspellings\n",
    "df_berlin['terrace_description'] = df_berlin['description'].apply(\n",
    "    lambda x: bool(re.search(\"ter{1,2}a(c|s){1,2}e\", x)))\n",
    "df_berlin['terrace_name'] = df_berlin['name'].apply(\n",
    "    lambda x: bool(re.search(\"ter{1,2}a(c|s){1,2}e\", x)))\n",
    "    \n",
    "# cross-check results\n",
    "#pd.DataFrame(df_berlin.value_counts()).pivot_table(index='terrace_description', columns='patio_balcony',\n",
    "#                                                   aggfunc=np.sum)\n",
    "pd.DataFrame(df_berlin.value_counts()).pivot_table(index='terrace_description', columns='terrace_name',\n",
    "                                                   aggfunc=np.sum)\n",
    "#df_berlin.loc[(~df_berlin['terrace_description'] & df_berlin['terrace_name'])].head()\n",
    "\n",
    "# OR columns to create \"terrace\" class label\n",
    "df_berlin['terrace'] = df_berlin['terrace_description'] | df_berlin['terrace_name']"
   ]
  },
  {
   "cell_type": "markdown",
   "id": "667742be",
   "metadata": {},
   "source": [
    "### Class Balance\n",
    "Checking the class balance of terrace True vs. False after the feature engineering above, we have 709 (or 4.6%) positives."
   ]
  },
  {
   "cell_type": "code",
   "execution_count": 5,
   "id": "2e278ab1",
   "metadata": {},
   "outputs": [
    {
     "data": {
      "text/plain": [
       "False    14653\n",
       "True       709\n",
       "Name: terrace, dtype: int64"
      ]
     },
     "execution_count": 5,
     "metadata": {},
     "output_type": "execute_result"
    },
    {
     "data": {
      "text/plain": [
       "False    0.953847\n",
       "True     0.046153\n",
       "Name: terrace, dtype: float64"
      ]
     },
     "execution_count": 5,
     "metadata": {},
     "output_type": "execute_result"
    }
   ],
   "source": [
    "df_berlin['terrace'].value_counts()\n",
    "df_berlin['terrace'].value_counts(normalize=True)"
   ]
  },
  {
   "cell_type": "markdown",
   "id": "36d2ecfd",
   "metadata": {},
   "source": [
    "## 2. Data exploration\n",
    "### Univariate - numerical\n",
    "Quick check on two numerical features: price and rating."
   ]
  },
  {
   "cell_type": "code",
   "execution_count": 6,
   "id": "f052d73e",
   "metadata": {},
   "outputs": [
    {
     "data": {
      "text/html": [
       "<div>\n",
       "<style scoped>\n",
       "    .dataframe tbody tr th:only-of-type {\n",
       "        vertical-align: middle;\n",
       "    }\n",
       "\n",
       "    .dataframe tbody tr th {\n",
       "        vertical-align: top;\n",
       "    }\n",
       "\n",
       "    .dataframe thead th {\n",
       "        text-align: right;\n",
       "    }\n",
       "</style>\n",
       "<table border=\"1\" class=\"dataframe\">\n",
       "  <thead>\n",
       "    <tr style=\"text-align: right;\">\n",
       "      <th></th>\n",
       "      <th>latitude</th>\n",
       "      <th>longitude</th>\n",
       "      <th>price</th>\n",
       "      <th>number_of_reviews</th>\n",
       "      <th>rating</th>\n",
       "    </tr>\n",
       "  </thead>\n",
       "  <tbody>\n",
       "    <tr>\n",
       "      <th>count</th>\n",
       "      <td>15362.000</td>\n",
       "      <td>15362.000</td>\n",
       "      <td>15362.000</td>\n",
       "      <td>15362.000</td>\n",
       "      <td>15362.000</td>\n",
       "    </tr>\n",
       "    <tr>\n",
       "      <th>mean</th>\n",
       "      <td>52.510</td>\n",
       "      <td>13.405</td>\n",
       "      <td>67.316</td>\n",
       "      <td>28.302</td>\n",
       "      <td>94.531</td>\n",
       "    </tr>\n",
       "    <tr>\n",
       "      <th>std</th>\n",
       "      <td>0.032</td>\n",
       "      <td>0.061</td>\n",
       "      <td>83.786</td>\n",
       "      <td>52.944</td>\n",
       "      <td>8.293</td>\n",
       "    </tr>\n",
       "    <tr>\n",
       "      <th>min</th>\n",
       "      <td>52.340</td>\n",
       "      <td>13.098</td>\n",
       "      <td>8.000</td>\n",
       "      <td>1.000</td>\n",
       "      <td>20.000</td>\n",
       "    </tr>\n",
       "    <tr>\n",
       "      <th>25%</th>\n",
       "      <td>52.490</td>\n",
       "      <td>13.372</td>\n",
       "      <td>35.000</td>\n",
       "      <td>3.000</td>\n",
       "      <td>93.000</td>\n",
       "    </tr>\n",
       "    <tr>\n",
       "      <th>50%</th>\n",
       "      <td>52.510</td>\n",
       "      <td>13.415</td>\n",
       "      <td>50.000</td>\n",
       "      <td>8.000</td>\n",
       "      <td>97.000</td>\n",
       "    </tr>\n",
       "    <tr>\n",
       "      <th>75%</th>\n",
       "      <td>52.533</td>\n",
       "      <td>13.439</td>\n",
       "      <td>79.000</td>\n",
       "      <td>27.000</td>\n",
       "      <td>100.000</td>\n",
       "    </tr>\n",
       "    <tr>\n",
       "      <th>max</th>\n",
       "      <td>52.656</td>\n",
       "      <td>13.758</td>\n",
       "      <td>4000.000</td>\n",
       "      <td>618.000</td>\n",
       "      <td>100.000</td>\n",
       "    </tr>\n",
       "  </tbody>\n",
       "</table>\n",
       "</div>"
      ],
      "text/plain": [
       "        latitude  longitude      price  number_of_reviews     rating\n",
       "count  15362.000  15362.000  15362.000          15362.000  15362.000\n",
       "mean      52.510     13.405     67.316             28.302     94.531\n",
       "std        0.032      0.061     83.786             52.944      8.293\n",
       "min       52.340     13.098      8.000              1.000     20.000\n",
       "25%       52.490     13.372     35.000              3.000     93.000\n",
       "50%       52.510     13.415     50.000              8.000     97.000\n",
       "75%       52.533     13.439     79.000             27.000    100.000\n",
       "max       52.656     13.758   4000.000            618.000    100.000"
      ]
     },
     "execution_count": 6,
     "metadata": {},
     "output_type": "execute_result"
    }
   ],
   "source": [
    "# by default, for only numerical features \n",
    "df_berlin.describe().round(3)"
   ]
  },
  {
   "cell_type": "markdown",
   "id": "45e47af4",
   "metadata": {},
   "source": [
    "### Price - initial check for outliers\n",
    "\n",
    "We can already see a very large \"max\" value, so price has obvious outlers.<br>\n",
    "Let's visualize with a histogram and accompanying box plot.\n",
    "\n",
    "**Notes:**\n",
    "- Boxplot fence/outlier boundaries are 5/95% quantiles (used by Kotu/Deshpande, figures 3.7 and 3.8)\n",
    "\n",
    "**Python:**\n",
    "- Plotting helper functions"
   ]
  },
  {
   "cell_type": "code",
   "execution_count": 7,
   "id": "e147ff69",
   "metadata": {},
   "outputs": [],
   "source": [
    "def histogram_bins(d_min=0, d_max=10, d_binw=0.5):\n",
    "    \"\"\"Setup histogram binning based on (d)ata inputs using NumPy to create list of bin edges\n",
    "    \n",
    "    Parameters\n",
    "    ----------\n",
    "    d_min : first bin left edge (default=0)\n",
    "    d_max : last bin left edge (default=10)\n",
    "    d_binw : bin width\n",
    "    \n",
    "    Returns\n",
    "    -------\n",
    "    histogram_bins : ndarray\n",
    "        Bin edges for `bins` input of Pandas/Matplotlib histogram methods\n",
    "        Note: last bin is [d_max, d_max+d_binw]\"\"\"\n",
    "        \n",
    "    return np.round_(np.arange(d_min, d_max+(2*d_binw), d_binw), decimals=1) #2*d_binw so max value gets own bin\n",
    "\n",
    "def plot_setup(\n",
    "        wspace=0.1, hspace=0.3,\n",
    "        xsetup=True,\n",
    "        xd_min=0, xd_max=10, x_grid=1, xlabel='default x-axis label',\n",
    "        x_padding=0,\n",
    "        ysetup=False,\n",
    "        yd_min=0, yd_max=10, y_grid=1, ylabel='default y-axis label',\n",
    "        y_padding=0):\n",
    "    \"\"\"Matplotlib plotting customization\n",
    "    \n",
    "    Parameters\n",
    "    ----------\n",
    "    wspace : width space (horizontal) between subplots (default=0.1)\n",
    "    hspace : height space (vertical) between subplots (default=0.3)\n",
    "    xsetup : setups x-axis for all subplots (default=True)\n",
    "    ysetup : setups y-axis for all subplots (default=False)\n",
    "    x_padding : add to axis limits on both sides for outliers, Gaussian tails (default=0)\n",
    "    y_padding : add to axis limits on both sides for outliers, Gaussian tails (default=0)\n",
    "    ...\n",
    "    \n",
    "    Returns\n",
    "    -------\n",
    "    No return value\"\"\"\n",
    "    \n",
    "    #Spacing between subplots\n",
    "    fig.subplots_adjust(wspace=wspace, hspace=hspace)\n",
    "    \n",
    "    #Setup x-axis label, limits, and grid spacing\n",
    "    if xsetup:  \n",
    "        x_min = math.floor(xd_min)-x_padding\n",
    "        x_max = math.ceil(xd_max)+x_padding\n",
    "        plt.setp(axes, xlabel=xlabel, xlim=[x_min, x_max], xticks=np.arange(x_min, x_max, x_grid))\n",
    "    \n",
    "    #Setup y-axis label, limits, and grid spacing\n",
    "    if ysetup:\n",
    "        y_min = math.floor(yd_min)-y_padding\n",
    "        y_max = math.ceil(yd_max)+y_padding\n",
    "        plt.setp(axes, ylabel=ylabel, ylim=[y_min, y_max], yticks=np.arange(y_min, y_max, y_grid))"
   ]
  },
  {
   "cell_type": "code",
   "execution_count": 8,
   "id": "0ce95f4d",
   "metadata": {},
   "outputs": [
    {
     "data": {
      "text/plain": [
       "Text(100, 1500, 'Mean = 67.316\\nMedian = 50.0\\nSD = 83.786\\n')"
      ]
     },
     "execution_count": 8,
     "metadata": {},
     "output_type": "execute_result"
    },
    {
     "data": {
      "text/plain": [
       "<AxesSubplot:title={'center':'price Historgram'}, xlabel='Euros per night', ylabel='Frequency'>"
      ]
     },
     "execution_count": 8,
     "metadata": {},
     "output_type": "execute_result"
    },
    {
     "data": {
      "text/plain": [
       "<AxesSubplot:title={'center':'price Boxplot'}, xlabel='Euros per night'>"
      ]
     },
     "execution_count": 8,
     "metadata": {},
     "output_type": "execute_result"
    },
    {
     "data": {
      "image/png": "[encoded data removed]",
      "text/plain": [
       "<Figure size 1440x720 with 2 Axes>"
      ]
     },
     "metadata": {},
     "output_type": "display_data"
    }
   ],
   "source": [
    "column = 'price' #variable to plot\n",
    "text_xy = (100, 1500) #Matplotlib text() uses data coordinates, need to adjust for each attribute's histogram\n",
    "\n",
    "#create subplots: setup 2x2 Axes in one Figure \n",
    "fig, axes = plt.subplots(nrows=2, ncols=1, figsize=(20,10))\n",
    "\n",
    "#setup plot grids based on (d)ata\n",
    "d_tuple = (df_berlin[column].min().min(), df_berlin[column].max().max())\n",
    "plot_setup(xd_min=0, xd_max=d_tuple[1], x_grid=50, xlabel='Euros per night')\n",
    "\n",
    "#Histogram binning setup based on (d)ata, bin width = data granularity of 10 Euros\n",
    "d_bins = histogram_bins(d_min=0, d_max=d_tuple[1], d_binw=10)\n",
    "\n",
    "axes[0].text(text_xy[0], text_xy[1],\n",
    "             f'Mean = {df_berlin[column].mean().round(3)}\\n'\n",
    "             f'Median = {df_berlin[column].median().round(3)}\\n'\n",
    "             f'SD = {df_berlin[column].std().round(3)}\\n', fontsize=14)\n",
    "\n",
    "df_berlin[column].plot.hist(ax=axes[0], bins=d_bins,\n",
    "                            rwidth=0.85, alpha=0.7, #from RealPython.com: alpha for transparency\n",
    "                            title=f'{column} Historgram')\n",
    "\n",
    "df_berlin[column].plot.box(ax=axes[1], vert=False, #horizontal!\n",
    "                     medianprops={'linewidth': 2, 'color': 'purple'},\n",
    "                     showmeans=True, meanline=True, meanprops={'linewidth': 2, 'color': 'red'},\n",
    "                     whis=(5,95), #default whis=1.5*IQR\n",
    "                     widths=(0.1), #skinnier like book\n",
    "                     title=f'{column} Boxplot')"
   ]
  },
  {
   "cell_type": "code",
   "execution_count": 9,
   "id": "01c970c8",
   "metadata": {},
   "outputs": [
    {
     "data": {
      "text/plain": [
       "1.00    4000.0\n",
       "0.95     150.0\n",
       "0.75      79.0\n",
       "0.50      50.0\n",
       "0.25      35.0\n",
       "0.05      20.0\n",
       "0.00       8.0\n",
       "Name: price, dtype: float64"
      ]
     },
     "execution_count": 9,
     "metadata": {},
     "output_type": "execute_result"
    }
   ],
   "source": [
    "df_berlin['price'].quantile([1, 0.95, 0.75, 0.5, 0.25, 0.05, 0])"
   ]
  },
  {
   "cell_type": "markdown",
   "id": "7c5740b5",
   "metadata": {},
   "source": [
    "**Observations**\n",
    "- the price mean is larger than median (positive-skew) due to high-priced \"luxury\" outliers\n",
    "- these are very high outliers, so remove them in the next section"
   ]
  },
  {
   "cell_type": "markdown",
   "id": "ab0f4542",
   "metadata": {},
   "source": [
    "### Price after removing outliers\n",
    "\n",
    "For better analysis (a more representative mean) and better graphing, we remove prices from 500 EUR and above.<br>\n",
    "Then replot histogram and boxplot."
   ]
  },
  {
   "cell_type": "code",
   "execution_count": 10,
   "id": "684708c1",
   "metadata": {},
   "outputs": [
    {
     "data": {
      "text/plain": [
       "False    14599\n",
       "True       696\n",
       "Name: terrace, dtype: int64"
      ]
     },
     "execution_count": 10,
     "metadata": {},
     "output_type": "execute_result"
    },
    {
     "data": {
      "text/plain": [
       "False    0.954495\n",
       "True     0.045505\n",
       "Name: terrace, dtype: float64"
      ]
     },
     "execution_count": 10,
     "metadata": {},
     "output_type": "execute_result"
    }
   ],
   "source": [
    "#berlin_airbnb = berlin_airbnb[berlin_airbnb.price < 1000] # To get around the long tail outliers\n",
    "df_berlin = df_berlin[df_berlin['price'] < 500]\n",
    "df_berlin['terrace'].value_counts()\n",
    "df_berlin['terrace'].value_counts(normalize=True)"
   ]
  },
  {
   "cell_type": "code",
   "execution_count": 11,
   "id": "64dd0a4c",
   "metadata": {},
   "outputs": [
    {
     "data": {
      "text/plain": [
       "Text(100, 1500, 'Mean = 63.421\\nMedian = 50.0\\nSD = 46.151\\n')"
      ]
     },
     "execution_count": 11,
     "metadata": {},
     "output_type": "execute_result"
    },
    {
     "data": {
      "text/plain": [
       "<AxesSubplot:title={'center':'price Historgram'}, xlabel='Euros per night', ylabel='Frequency'>"
      ]
     },
     "execution_count": 11,
     "metadata": {},
     "output_type": "execute_result"
    },
    {
     "data": {
      "text/plain": [
       "<AxesSubplot:xlabel='Euros per night'>"
      ]
     },
     "execution_count": 11,
     "metadata": {},
     "output_type": "execute_result"
    },
    {
     "data": {
      "image/png": "[encoded data removed]",
      "text/plain": [
       "<Figure size 1440x720 with 2 Axes>"
      ]
     },
     "metadata": {},
     "output_type": "display_data"
    }
   ],
   "source": [
    "column = 'price' #variable to plot\n",
    "text_xy = (100, 1500) #Matplotlib text() uses data coordinates, need to adjust for each attribute's histogram\n",
    "\n",
    "#create subplots: setup 2x2 Axes in one Figure \n",
    "fig, axes = plt.subplots(nrows=2, ncols=1, figsize=(20,10))\n",
    "\n",
    "#setup plot grids based on (d)ata\n",
    "d_tuple = (df_berlin[column].min().min(), df_berlin[column].max().max())\n",
    "plot_setup(xd_min=0, xd_max=d_tuple[1], x_grid=50, xlabel='Euros per night')\n",
    "\n",
    "#Histogram binning setup based on (d)ata, bin width = data granularity of 10 Euros\n",
    "d_bins = histogram_bins(d_min=0, d_max=d_tuple[1], d_binw=10)\n",
    "\n",
    "axes[0].text(text_xy[0], text_xy[1],\n",
    "             f'Mean = {df_berlin[column].mean().round(3)}\\n'\n",
    "             f'Median = {df_berlin[column].median().round(3)}\\n'\n",
    "             f'SD = {df_berlin[column].std().round(3)}\\n', fontsize=14)\n",
    "\n",
    "df_berlin[column].plot.hist(ax=axes[0], bins=d_bins,\n",
    "                            rwidth=0.85, alpha=0.7, #from RealPython.com: alpha for transparency\n",
    "                            title=f'{column} Historgram')\n",
    "\n",
    "df_berlin[column].plot.box(ax=axes[1], vert=False, #horizontal!\n",
    "                     medianprops={'linewidth': 2, 'color': 'purple'},\n",
    "                     showmeans=True, meanline=True, meanprops={'linewidth': 2, 'color': 'red'},\n",
    "                     whis=(5,95), #default whis=1.5*IQR\n",
    "                     widths=(0.1)) #skinnier like book"
   ]
  },
  {
   "cell_type": "code",
   "execution_count": 12,
   "id": "a7611fc5",
   "metadata": {},
   "outputs": [
    {
     "data": {
      "text/plain": [
       "1.00    490.0\n",
       "0.95    149.0\n",
       "0.75     79.0\n",
       "0.50     50.0\n",
       "0.25     35.0\n",
       "0.05     20.0\n",
       "0.00      8.0\n",
       "Name: price, dtype: float64"
      ]
     },
     "execution_count": 12,
     "metadata": {},
     "output_type": "execute_result"
    }
   ],
   "source": [
    "df_berlin['price'].quantile([1, 0.95, 0.75, 0.5, 0.25, 0.05, 0])"
   ]
  },
  {
   "cell_type": "markdown",
   "id": "2a8a650d",
   "metadata": {},
   "source": [
    "**Observations**<br>\n",
    "As expected, after removing outliers from 500 EUR and above:\n",
    "- the price mean moves closer to the median from 67 to 63 EUR\n",
    "- the price median doesn't change at 50 EUR\n",
    "- the Standard Deviation (SD) almost halved from 84 to 46 EUR"
   ]
  },
  {
   "cell_type": "markdown",
   "id": "36e59c1d",
   "metadata": {},
   "source": [
    "### Price by-terrace\n",
    "Let's see how the price distributions differ by whether it has a terrace or not.<br>\n",
    "Run same plots grouped by \"terrace\".<br>\n",
    "\n",
    "**Note:**\n",
    "- For histograms, we need to **normalize** because of the unbalanced classes, and for comparison to the Kernel Density Estimate (KDE)\n",
    "\n",
    "**Python:**\n",
    "- first use fo Pandas `groupby` in this project, how lovely and useful it is!"
   ]
  },
  {
   "cell_type": "code",
   "execution_count": 13,
   "id": "8cb47847",
   "metadata": {},
   "outputs": [
    {
     "data": {
      "text/html": [
       "<div>\n",
       "<style scoped>\n",
       "    .dataframe tbody tr th:only-of-type {\n",
       "        vertical-align: middle;\n",
       "    }\n",
       "\n",
       "    .dataframe tbody tr th {\n",
       "        vertical-align: top;\n",
       "    }\n",
       "\n",
       "    .dataframe thead th {\n",
       "        text-align: right;\n",
       "    }\n",
       "</style>\n",
       "<table border=\"1\" class=\"dataframe\">\n",
       "  <thead>\n",
       "    <tr style=\"text-align: right;\">\n",
       "      <th></th>\n",
       "      <th>count</th>\n",
       "      <th>mean</th>\n",
       "      <th>std</th>\n",
       "      <th>min</th>\n",
       "      <th>25%</th>\n",
       "      <th>50%</th>\n",
       "      <th>75%</th>\n",
       "      <th>max</th>\n",
       "    </tr>\n",
       "    <tr>\n",
       "      <th>terrace</th>\n",
       "      <th></th>\n",
       "      <th></th>\n",
       "      <th></th>\n",
       "      <th></th>\n",
       "      <th></th>\n",
       "      <th></th>\n",
       "      <th></th>\n",
       "      <th></th>\n",
       "    </tr>\n",
       "  </thead>\n",
       "  <tbody>\n",
       "    <tr>\n",
       "      <th>False</th>\n",
       "      <td>14599.0</td>\n",
       "      <td>61.852</td>\n",
       "      <td>44.338</td>\n",
       "      <td>8.0</td>\n",
       "      <td>35.0</td>\n",
       "      <td>50.0</td>\n",
       "      <td>75.0</td>\n",
       "      <td>490.0</td>\n",
       "    </tr>\n",
       "    <tr>\n",
       "      <th>True</th>\n",
       "      <td>696.0</td>\n",
       "      <td>96.338</td>\n",
       "      <td>66.641</td>\n",
       "      <td>9.0</td>\n",
       "      <td>50.0</td>\n",
       "      <td>80.0</td>\n",
       "      <td>120.0</td>\n",
       "      <td>479.0</td>\n",
       "    </tr>\n",
       "  </tbody>\n",
       "</table>\n",
       "</div>"
      ],
      "text/plain": [
       "           count    mean     std  min   25%   50%    75%    max\n",
       "terrace                                                        \n",
       "False    14599.0  61.852  44.338  8.0  35.0  50.0   75.0  490.0\n",
       "True       696.0  96.338  66.641  9.0  50.0  80.0  120.0  479.0"
      ]
     },
     "execution_count": 13,
     "metadata": {},
     "output_type": "execute_result"
    }
   ],
   "source": [
    "df_berlin.groupby('terrace')['price'].describe().round(3)"
   ]
  },
  {
   "cell_type": "markdown",
   "id": "6f4677c8",
   "metadata": {},
   "source": [
    "**Observations:**<br>\n",
    "Just from `describe`, we can already see a shift to pricier places when a \"terrace\" is present:\n",
    "- the mean shifts up from 62 to 96 EUR\n",
    "- **the median (50%) also shifts up from 50 to 80 EUR** so the mean shift is not just due to a few expensive outliers\n",
    "- there is a 9 EUR per night rental wth a terrace available!"
   ]
  },
  {
   "cell_type": "code",
   "execution_count": 14,
   "id": "7bed6c2f",
   "metadata": {},
   "outputs": [
    {
     "data": {
      "text/plain": [
       "terrace\n",
       "False    AxesSubplot(0.125,0.551739;0.775x0.328261)\n",
       "True     AxesSubplot(0.125,0.551739;0.775x0.328261)\n",
       "Name: price, dtype: object"
      ]
     },
     "execution_count": 14,
     "metadata": {},
     "output_type": "execute_result"
    },
    {
     "data": {
      "text/plain": [
       "terrace\n",
       "False    AxesSubplot(0.125,0.551739;0.775x0.328261)\n",
       "True     AxesSubplot(0.125,0.551739;0.775x0.328261)\n",
       "Name: price, dtype: object"
      ]
     },
     "execution_count": 14,
     "metadata": {},
     "output_type": "execute_result"
    },
    {
     "data": {
      "text/plain": [
       "<AxesSubplot:title={'center':'price'}, xlabel='terrace'>"
      ]
     },
     "execution_count": 14,
     "metadata": {},
     "output_type": "execute_result"
    },
    {
     "data": {
      "image/png": "[encoded data removed]",
      "text/plain": [
       "<Figure size 1440x720 with 2 Axes>"
      ]
     },
     "metadata": {},
     "output_type": "display_data"
    }
   ],
   "source": [
    "column = 'price' #variable to plot\n",
    "group = 'terrace' #variable to group-\"by\"\n",
    "\n",
    "#create subplots: setup 2x2 Axes in one Figure \n",
    "fig, axes = plt.subplots(nrows=2, ncols=1, figsize=(20,10))\n",
    "\n",
    "#setup plot grids based on (d)ata\n",
    "#d_tuple = (df_berlin[column].min().min(), df_berlin[column].max().max())\n",
    "d_tuple = (0, df_berlin[column].max().max()) # hardcode min to 0\n",
    "plot_setup(xd_min=d_tuple[0], xd_max=d_tuple[1], x_grid=50, xlabel='Euros per night')\n",
    "\n",
    "#Histogram binning setup based on (d)ata, bin width = data granularity of 10 Euros\n",
    "d_bins = histogram_bins(d_min=d_tuple[0], d_max=d_tuple[1], d_binw=10)\n",
    "\n",
    "df_berlin.groupby(group)[column].plot.hist(ax=axes[0], density=True,\n",
    "                                                   bins=d_bins,\n",
    "                                                   rwidth=0.85, alpha=0.7, #from RealPython.com: alpha for transparency\n",
    "                                                   title=f'{column} Historgram by-terrace',\n",
    "                                                   legend=True)\n",
    "df_berlin.groupby(group)[column].plot.kde(ax=axes[0],\n",
    "                                                  bw_method=0.1, legend=True) #bw_method='scott' (default), 'silverman', scalar\n",
    "    \n",
    "df_berlin.boxplot(by=group, column=column, ax=axes[1], vert=False,\n",
    "                     medianprops={'linewidth': 2, 'color': 'purple'},\n",
    "                     showmeans=True, meanline=True, meanprops={'linewidth': 2, 'color': 'red'},\n",
    "                     whis=(5,95), #default whis=1.5*IQR\n",
    "                     widths=(0.2)) #skinnier like book"
   ]
  },
  {
   "cell_type": "code",
   "execution_count": 15,
   "id": "590a7820",
   "metadata": {},
   "outputs": [
    {
     "data": {
      "text/plain": [
       "terrace      \n",
       "False    1.00    490.00\n",
       "         0.95    144.00\n",
       "         0.75     75.00\n",
       "         0.50     50.00\n",
       "         0.25     35.00\n",
       "         0.05     20.00\n",
       "         0.00      8.00\n",
       "True     1.00    479.00\n",
       "         0.95    223.25\n",
       "         0.75    120.00\n",
       "         0.50     80.00\n",
       "         0.25     50.00\n",
       "         0.05     27.75\n",
       "         0.00      9.00\n",
       "Name: price, dtype: float64"
      ]
     },
     "execution_count": 15,
     "metadata": {},
     "output_type": "execute_result"
    }
   ],
   "source": [
    "df_berlin.groupby('terrace')['price'].quantile([1, 0.95, 0.75, 0.5, 0.25, 0.05, 0])"
   ]
  },
  {
   "cell_type": "markdown",
   "id": "810f880f",
   "metadata": {},
   "source": [
    "**Observations:**\n",
    "- the historgrams and KDEs grouped by terrace True vs. False indeed shift to higher prices and more spread out (higher SD) prices\n",
    "- terrace True looks bi-modal at around 50 and 80 EUR\n",
    "- differences are prominent in box plots as well"
   ]
  },
  {
   "cell_type": "markdown",
   "id": "458ae323",
   "metadata": {},
   "source": [
    "### Review score rating - initial checks\n",
    "Similar analysis for rating as we did for price:\n",
    "- keep all values because of bounded range from 20-100"
   ]
  },
  {
   "cell_type": "code",
   "execution_count": 16,
   "id": "9f8854bc",
   "metadata": {},
   "outputs": [
    {
     "data": {
      "text/plain": [
       "Text(85, 2000, 'Mean = 94.53\\nMedian = 97.0\\nSD = 8.279\\n')"
      ]
     },
     "execution_count": 16,
     "metadata": {},
     "output_type": "execute_result"
    },
    {
     "data": {
      "text/plain": [
       "<AxesSubplot:title={'center':'rating Historgram'}, xlabel='Review score rating out of 100', ylabel='Frequency'>"
      ]
     },
     "execution_count": 16,
     "metadata": {},
     "output_type": "execute_result"
    },
    {
     "data": {
      "text/plain": [
       "<AxesSubplot:title={'center':'rating Boxplot'}, xlabel='Review score rating out of 100'>"
      ]
     },
     "execution_count": 16,
     "metadata": {},
     "output_type": "execute_result"
    },
    {
     "data": {
      "image/png": "[encoded data removed]",
      "text/plain": [
       "<Figure size 1440x720 with 2 Axes>"
      ]
     },
     "metadata": {},
     "output_type": "display_data"
    }
   ],
   "source": [
    "column = 'rating' #variable to plot\n",
    "text_xy = (85, 2000) #Matplotlib text() uses data coordinates, need to adjust for each attribute's histogram\n",
    "\n",
    "#create subplots: setup 2x2 Axes in one Figure \n",
    "fig, axes = plt.subplots(nrows=2, ncols=1, figsize=(20,10))\n",
    "\n",
    "#setup plot grids based on (d)ata\n",
    "d_tuple = (df_berlin[column].min().min(), df_berlin[column].max().max())\n",
    "plot_setup(xd_min=d_tuple[0], xd_max=d_tuple[1], x_grid=5, x_padding=5, xlabel='Review score rating out of 100')\n",
    "\n",
    "#Histogram binning setup based on (d)ata, bin width = data granularity of 1 (many scores bunched up in 90s)\n",
    "d_bins = histogram_bins(d_min=d_tuple[0], d_max=d_tuple[1], d_binw=1)\n",
    "\n",
    "axes[0].text(text_xy[0], text_xy[1],\n",
    "             f'Mean = {df_berlin[column].mean().round(3)}\\n'\n",
    "             f'Median = {df_berlin[column].median().round(3)}\\n'\n",
    "             f'SD = {df_berlin[column].std().round(3)}\\n', fontsize=14)\n",
    "\n",
    "df_berlin[column].plot.hist(ax=axes[0], bins=d_bins,\n",
    "                            rwidth=0.85, alpha=0.7, #from RealPython.com: alpha for transparency\n",
    "                            title=f'{column} Historgram')\n",
    "\n",
    "df_berlin[column].plot.box(ax=axes[1], vert=False, #horizontal!\n",
    "                     medianprops={'linewidth': 2, 'color': 'purple'},\n",
    "                     showmeans=True, meanline=True, meanprops={'linewidth': 2, 'color': 'red'},\n",
    "                     whis=(5,95), #default whis=1.5*IQR\n",
    "                     widths=(0.1), #skinnier like book\n",
    "                     title=f'{column} Boxplot')"
   ]
  },
  {
   "cell_type": "code",
   "execution_count": 17,
   "id": "18211610",
   "metadata": {},
   "outputs": [
    {
     "data": {
      "text/plain": [
       "1.00    100.0\n",
       "0.95    100.0\n",
       "0.75    100.0\n",
       "0.50     97.0\n",
       "0.25     93.0\n",
       "0.05     80.0\n",
       "0.00     20.0\n",
       "Name: rating, dtype: float64"
      ]
     },
     "execution_count": 17,
     "metadata": {},
     "output_type": "execute_result"
    }
   ],
   "source": [
    "df_berlin['rating'].quantile([1, 0.95, 0.75, 0.5, 0.25, 0.05, 0])"
   ]
  },
  {
   "cell_type": "markdown",
   "id": "d54a86cd",
   "metadata": {},
   "source": [
    "**Observations:**\n",
    "- Rating is ery negative-skewed with the mean less than the median due to \"bad rating\" outliers (less than 80)\n",
    "- IQR box (25-75/100%) is bunched up in the high ratings: 90s to the maximum of 100 (93-100)\n",
    "- a ratings mode of 100! (something to explore later?)"
   ]
  },
  {
   "cell_type": "markdown",
   "id": "4bc288d4",
   "metadata": {},
   "source": [
    "### Review score ratings - by-terrace\n",
    "Similar analysis for rating by-terrace as we did for price."
   ]
  },
  {
   "cell_type": "code",
   "execution_count": 18,
   "id": "be15a3c9",
   "metadata": {},
   "outputs": [
    {
     "data": {
      "text/html": [
       "<div>\n",
       "<style scoped>\n",
       "    .dataframe tbody tr th:only-of-type {\n",
       "        vertical-align: middle;\n",
       "    }\n",
       "\n",
       "    .dataframe tbody tr th {\n",
       "        vertical-align: top;\n",
       "    }\n",
       "\n",
       "    .dataframe thead th {\n",
       "        text-align: right;\n",
       "    }\n",
       "</style>\n",
       "<table border=\"1\" class=\"dataframe\">\n",
       "  <thead>\n",
       "    <tr style=\"text-align: right;\">\n",
       "      <th></th>\n",
       "      <th>count</th>\n",
       "      <th>mean</th>\n",
       "      <th>std</th>\n",
       "      <th>min</th>\n",
       "      <th>25%</th>\n",
       "      <th>50%</th>\n",
       "      <th>75%</th>\n",
       "      <th>max</th>\n",
       "    </tr>\n",
       "    <tr>\n",
       "      <th>terrace</th>\n",
       "      <th></th>\n",
       "      <th></th>\n",
       "      <th></th>\n",
       "      <th></th>\n",
       "      <th></th>\n",
       "      <th></th>\n",
       "      <th></th>\n",
       "      <th></th>\n",
       "    </tr>\n",
       "  </thead>\n",
       "  <tbody>\n",
       "    <tr>\n",
       "      <th>False</th>\n",
       "      <td>14599.0</td>\n",
       "      <td>94.456</td>\n",
       "      <td>8.386</td>\n",
       "      <td>20.0</td>\n",
       "      <td>92.0</td>\n",
       "      <td>97.0</td>\n",
       "      <td>100.0</td>\n",
       "      <td>100.0</td>\n",
       "    </tr>\n",
       "    <tr>\n",
       "      <th>True</th>\n",
       "      <td>696.0</td>\n",
       "      <td>96.085</td>\n",
       "      <td>5.367</td>\n",
       "      <td>60.0</td>\n",
       "      <td>95.0</td>\n",
       "      <td>98.0</td>\n",
       "      <td>100.0</td>\n",
       "      <td>100.0</td>\n",
       "    </tr>\n",
       "  </tbody>\n",
       "</table>\n",
       "</div>"
      ],
      "text/plain": [
       "           count    mean    std   min   25%   50%    75%    max\n",
       "terrace                                                        \n",
       "False    14599.0  94.456  8.386  20.0  92.0  97.0  100.0  100.0\n",
       "True       696.0  96.085  5.367  60.0  95.0  98.0  100.0  100.0"
      ]
     },
     "execution_count": 18,
     "metadata": {},
     "output_type": "execute_result"
    }
   ],
   "source": [
    "df_berlin.groupby('terrace')['rating'].describe().round(3)"
   ]
  },
  {
   "cell_type": "markdown",
   "id": "299a06a8",
   "metadata": {},
   "source": [
    "**Observations:**<br>\n",
    "From `describe`, we can see:\n",
    "- the rating mean and median do shift up slightly for terrace True\n",
    "- interestingly, the ratings spread is tighter (smaller SD) for terraces, as opposed to the wider price spread\n",
    "    - but low rating outliers also affect SD so take with a grain of salt\n",
    "    - infer: \"while terrace prices have a wider range, the satisfication with them are more consistenly high\""
   ]
  },
  {
   "cell_type": "code",
   "execution_count": 19,
   "id": "d997c909",
   "metadata": {},
   "outputs": [
    {
     "data": {
      "text/plain": [
       "terrace\n",
       "False    AxesSubplot(0.125,0.551739;0.775x0.328261)\n",
       "True     AxesSubplot(0.125,0.551739;0.775x0.328261)\n",
       "Name: rating, dtype: object"
      ]
     },
     "execution_count": 19,
     "metadata": {},
     "output_type": "execute_result"
    },
    {
     "data": {
      "text/plain": [
       "terrace\n",
       "False    AxesSubplot(0.125,0.551739;0.775x0.328261)\n",
       "True     AxesSubplot(0.125,0.551739;0.775x0.328261)\n",
       "Name: rating, dtype: object"
      ]
     },
     "execution_count": 19,
     "metadata": {},
     "output_type": "execute_result"
    },
    {
     "data": {
      "text/plain": [
       "<AxesSubplot:title={'center':'rating'}, xlabel='terrace'>"
      ]
     },
     "execution_count": 19,
     "metadata": {},
     "output_type": "execute_result"
    },
    {
     "data": {
      "image/png": "[encoded data removed]",
      "text/plain": [
       "<Figure size 1440x720 with 2 Axes>"
      ]
     },
     "metadata": {},
     "output_type": "display_data"
    }
   ],
   "source": [
    "column = 'rating' #variable to plot\n",
    "group = 'terrace' #variable to group-\"by\"\n",
    "\n",
    "#create subplots: setup 2x2 Axes in one Figure \n",
    "fig, axes = plt.subplots(nrows=2, ncols=1, figsize=(20,10))\n",
    "\n",
    "#setup plot grids based on (d)ata\n",
    "d_tuple = (50, df_berlin[column].max().max()) # hardcode min to 50\n",
    "plot_setup(xd_min=d_tuple[0], xd_max=d_tuple[1], x_grid=5, x_padding=5, xlabel='Review score rating out of 100')\n",
    "\n",
    "#Histogram binning setup based on (d)ata, bin width = data granularity of 1 rating score\n",
    "d_bins = histogram_bins(d_min=d_tuple[0], d_max=d_tuple[1], d_binw=1)\n",
    "\n",
    "df_berlin.groupby(group)[column].plot.hist(ax=axes[0], density=True,\n",
    "                                                   bins=d_bins,\n",
    "                                                   rwidth=0.85, alpha=0.7, #from RealPython.com: alpha for transparency\n",
    "                                                   title=f'{column} Historgram by-terrace',\n",
    "                                                   legend=True)\n",
    "df_berlin.groupby(group)[column].plot.kde(ax=axes[0],\n",
    "                                                  bw_method=0.1, legend=True) #bw_method='scott' (default), 'silverman', scalar\n",
    "    \n",
    "df_berlin.boxplot(by=group, column=column, ax=axes[1], vert=False,\n",
    "                     medianprops={'linewidth': 2, 'color': 'purple'},\n",
    "                     showmeans=True, meanline=True, meanprops={'linewidth': 2, 'color': 'red'},\n",
    "                     whis=(5,95), #default whis=1.5*IQR\n",
    "                     widths=(0.2)) #skinnier like book"
   ]
  },
  {
   "cell_type": "markdown",
   "id": "5454290b",
   "metadata": {},
   "source": [
    "**Observations:**<br>\n",
    "- difficult to see much difference in histogram/KDE plots\n",
    "- box plots are better here for showing the slightly higher ratings for terraces"
   ]
  },
  {
   "cell_type": "markdown",
   "id": "26b40e9f",
   "metadata": {},
   "source": [
    "### Multivariate - numeric\n",
    "Compare price and rating using a **scatter plot** to answer the question: is there any relationship between price and rating?"
   ]
  },
  {
   "cell_type": "code",
   "execution_count": 20,
   "id": "8599525e",
   "metadata": {},
   "outputs": [
    {
     "data": {
      "text/plain": [
       "<matplotlib.collections.PathCollection at 0x123ed0100>"
      ]
     },
     "execution_count": 20,
     "metadata": {},
     "output_type": "execute_result"
    },
    {
     "data": {
      "text/plain": [
       "<matplotlib.collections.PathCollection at 0x123b71fa0>"
      ]
     },
     "execution_count": 20,
     "metadata": {},
     "output_type": "execute_result"
    },
    {
     "data": {
      "text/plain": [
       "[Text(0.5, 0, 'price'), Text(0, 0.5, 'rating')]"
      ]
     },
     "execution_count": 20,
     "metadata": {},
     "output_type": "execute_result"
    },
    {
     "data": {
      "text/plain": [
       "<matplotlib.legend.Legend at 0x121789310>"
      ]
     },
     "execution_count": 20,
     "metadata": {},
     "output_type": "execute_result"
    },
    {
     "data": {
      "image/png": "[encoded data removed]",
      "text/plain": [
       "<Figure size 720x720 with 1 Axes>"
      ]
     },
     "metadata": {},
     "output_type": "display_data"
    }
   ],
   "source": [
    "xcol = 'price'\n",
    "ycol = 'rating'\n",
    "group = 'terrace'\n",
    "\n",
    "#create subplots: setup 1x1 Axes in one Figure\n",
    "fig, axes = plt.subplots(nrows=1, ncols=1, figsize=(10,10))\n",
    "\n",
    "#setup plot grids based on (d)ata #hard code min/max to zoom\n",
    "plot_setup(xd_min=0, xd_max=df_berlin[xcol].max(), x_grid=50, x_padding=5,\n",
    "           ysetup=True, yd_min=df_berlin[ycol].min(), yd_max=df_berlin[ycol].max(), y_grid=5, y_padding=5)\n",
    "\n",
    "#df_berlin.plot.scatter(ax=ax, x=xcol, y=ycol, c=df_berlin['terrace'], colormap='summer')\n",
    "\n",
    "corr_vars = dict(pearson='r', spearman='rho', kendall='tau')\n",
    "corr_method = 'pearson' #'pearson', 'spearman', 'kendall'\n",
    "\n",
    "# use Matplotlib native \"scatter\" for fuller control\n",
    "#Scatter plot by-class (groupby)\n",
    "df_berlin_grouped = df_berlin.groupby(group) #for each group: tuple of (name, subsetted object)\n",
    "for group_name, group in df_berlin_grouped:\n",
    "    label = f'{group_name} {corr_vars[corr_method]}={group.corr(method=corr_method).at[xcol,ycol].round(2)}'\n",
    "    axes.scatter(x=group[xcol], y=group[ycol], label=label, s=10)\n",
    "            \n",
    "axes.set(xlabel=xcol, ylabel=ycol)\n",
    "axes.legend()"
   ]
  },
  {
   "cell_type": "markdown",
   "id": "749d1362",
   "metadata": {},
   "source": [
    "**Observations**\n",
    "- discrete ratings lines at 20, 40, 60, 80\n",
    "- terrace True has a tighter \"bunch-up\" at high (90+) ratings\n",
    "- not indicated in correlation measures, but visually, there is a logarithmic-looking \"curved boundary\" that suggests:\n",
    "    - higher prices have more exclusively high ratings (more effort by hosts?)\n",
    "    - lower prices also have high ratings but includes more low ratings (more mixed quality)"
   ]
  },
  {
   "cell_type": "markdown",
   "id": "309993ad",
   "metadata": {},
   "source": [
    "### Experiment: price vs. ratings \"range\"\n",
    "Let's plot this and see what we get."
   ]
  },
  {
   "cell_type": "code",
   "execution_count": 21,
   "id": "bce5aff2",
   "metadata": {},
   "outputs": [
    {
     "data": {
      "text/plain": [
       "<AxesSubplot:xlabel='price'>"
      ]
     },
     "execution_count": 21,
     "metadata": {},
     "output_type": "execute_result"
    },
    {
     "data": {
      "image/png": "[encoded data removed]",
      "text/plain": [
       "<Figure size 432x288 with 1 Axes>"
      ]
     },
     "metadata": {},
     "output_type": "display_data"
    }
   ],
   "source": [
    "pd.DataFrame(df_berlin.groupby('price').apply(lambda x: x['rating'].max() - x['rating'].min()),\n",
    "             columns=['ratings range']).plot()"
   ]
  },
  {
   "cell_type": "markdown",
   "id": "43fe9b1a",
   "metadata": {},
   "source": [
    "**Observations:**\n",
    "- Yes! Noisy (would be good to bin prices) but we do see a trend of higher prices correlating to smaller ratings **ranges**"
   ]
  },
  {
   "cell_type": "markdown",
   "id": "15de71ec",
   "metadata": {},
   "source": [
    "### Univariate - categorical\n",
    "A quick look at our categorical variables."
   ]
  },
  {
   "cell_type": "code",
   "execution_count": 22,
   "id": "3f125f7c",
   "metadata": {},
   "outputs": [
    {
     "data": {
      "text/html": [
       "<div>\n",
       "<style scoped>\n",
       "    .dataframe tbody tr th:only-of-type {\n",
       "        vertical-align: middle;\n",
       "    }\n",
       "\n",
       "    .dataframe tbody tr th {\n",
       "        vertical-align: top;\n",
       "    }\n",
       "\n",
       "    .dataframe thead th {\n",
       "        text-align: right;\n",
       "    }\n",
       "</style>\n",
       "<table border=\"1\" class=\"dataframe\">\n",
       "  <thead>\n",
       "    <tr style=\"text-align: right;\">\n",
       "      <th></th>\n",
       "      <th>neighbourhood</th>\n",
       "      <th>district</th>\n",
       "      <th>property_type</th>\n",
       "      <th>room_type</th>\n",
       "    </tr>\n",
       "  </thead>\n",
       "  <tbody>\n",
       "    <tr>\n",
       "      <th>count</th>\n",
       "      <td>15295</td>\n",
       "      <td>15295</td>\n",
       "      <td>15295</td>\n",
       "      <td>15295</td>\n",
       "    </tr>\n",
       "    <tr>\n",
       "      <th>unique</th>\n",
       "      <td>136</td>\n",
       "      <td>12</td>\n",
       "      <td>63</td>\n",
       "      <td>4</td>\n",
       "    </tr>\n",
       "    <tr>\n",
       "      <th>top</th>\n",
       "      <td>Frankfurter Allee Süd FK</td>\n",
       "      <td>Friedrichshain-Kreuzberg</td>\n",
       "      <td>Entire apartment</td>\n",
       "      <td>Entire home/apt</td>\n",
       "    </tr>\n",
       "    <tr>\n",
       "      <th>freq</th>\n",
       "      <td>874</td>\n",
       "      <td>3514</td>\n",
       "      <td>7404</td>\n",
       "      <td>8499</td>\n",
       "    </tr>\n",
       "  </tbody>\n",
       "</table>\n",
       "</div>"
      ],
      "text/plain": [
       "                   neighbourhood                  district     property_type  \\\n",
       "count                      15295                     15295             15295   \n",
       "unique                       136                        12                63   \n",
       "top     Frankfurter Allee Süd FK  Friedrichshain-Kreuzberg  Entire apartment   \n",
       "freq                         874                      3514              7404   \n",
       "\n",
       "              room_type  \n",
       "count             15295  \n",
       "unique                4  \n",
       "top     Entire home/apt  \n",
       "freq               8499  "
      ]
     },
     "execution_count": 22,
     "metadata": {},
     "output_type": "execute_result"
    }
   ],
   "source": [
    "df_berlin.describe(include='category')"
   ]
  },
  {
   "cell_type": "markdown",
   "id": "ec55356d",
   "metadata": {},
   "source": [
    "### Districts - listings vs. terraces per-district\n",
    "Which districts have high/low % of terraces within their listings normalized to the entire (current) dataset?"
   ]
  },
  {
   "cell_type": "code",
   "execution_count": 23,
   "id": "b246f377",
   "metadata": {},
   "outputs": [
    {
     "data": {
      "text/html": [
       "<div>\n",
       "<style scoped>\n",
       "    .dataframe tbody tr th:only-of-type {\n",
       "        vertical-align: middle;\n",
       "    }\n",
       "\n",
       "    .dataframe tbody tr th {\n",
       "        vertical-align: top;\n",
       "    }\n",
       "\n",
       "    .dataframe thead th {\n",
       "        text-align: right;\n",
       "    }\n",
       "</style>\n",
       "<table border=\"1\" class=\"dataframe\">\n",
       "  <thead>\n",
       "    <tr style=\"text-align: right;\">\n",
       "      <th></th>\n",
       "      <th>listings_norm</th>\n",
       "      <th>terrace_norm</th>\n",
       "    </tr>\n",
       "  </thead>\n",
       "  <tbody>\n",
       "    <tr>\n",
       "      <th>Charlottenburg-Wilmersdorf</th>\n",
       "      <td>0.079830</td>\n",
       "      <td>0.071839</td>\n",
       "    </tr>\n",
       "    <tr>\n",
       "      <th>Friedrichshain-Kreuzberg</th>\n",
       "      <td>0.229748</td>\n",
       "      <td>0.225575</td>\n",
       "    </tr>\n",
       "    <tr>\n",
       "      <th>Lichtenberg</th>\n",
       "      <td>0.028571</td>\n",
       "      <td>0.033046</td>\n",
       "    </tr>\n",
       "    <tr>\n",
       "      <th>Marzahn-Hellersdorf</th>\n",
       "      <td>0.006080</td>\n",
       "      <td>0.004310</td>\n",
       "    </tr>\n",
       "    <tr>\n",
       "      <th>Mitte</th>\n",
       "      <td>0.213992</td>\n",
       "      <td>0.225575</td>\n",
       "    </tr>\n",
       "    <tr>\n",
       "      <th>Neukölln</th>\n",
       "      <td>0.141092</td>\n",
       "      <td>0.089080</td>\n",
       "    </tr>\n",
       "    <tr>\n",
       "      <th>Pankow</th>\n",
       "      <td>0.163387</td>\n",
       "      <td>0.206897</td>\n",
       "    </tr>\n",
       "    <tr>\n",
       "      <th>Reinickendorf</th>\n",
       "      <td>0.013403</td>\n",
       "      <td>0.015805</td>\n",
       "    </tr>\n",
       "    <tr>\n",
       "      <th>Spandau</th>\n",
       "      <td>0.007192</td>\n",
       "      <td>0.011494</td>\n",
       "    </tr>\n",
       "    <tr>\n",
       "      <th>Steglitz-Zehlendorf</th>\n",
       "      <td>0.019287</td>\n",
       "      <td>0.027299</td>\n",
       "    </tr>\n",
       "    <tr>\n",
       "      <th>Tempelhof-Schöneberg</th>\n",
       "      <td>0.066558</td>\n",
       "      <td>0.041667</td>\n",
       "    </tr>\n",
       "    <tr>\n",
       "      <th>Treptow-Köpenick</th>\n",
       "      <td>0.030860</td>\n",
       "      <td>0.047414</td>\n",
       "    </tr>\n",
       "  </tbody>\n",
       "</table>\n",
       "</div>"
      ],
      "text/plain": [
       "                            listings_norm  terrace_norm\n",
       "Charlottenburg-Wilmersdorf       0.079830      0.071839\n",
       "Friedrichshain-Kreuzberg         0.229748      0.225575\n",
       "Lichtenberg                      0.028571      0.033046\n",
       "Marzahn-Hellersdorf              0.006080      0.004310\n",
       "Mitte                            0.213992      0.225575\n",
       "Neukölln                         0.141092      0.089080\n",
       "Pankow                           0.163387      0.206897\n",
       "Reinickendorf                    0.013403      0.015805\n",
       "Spandau                          0.007192      0.011494\n",
       "Steglitz-Zehlendorf              0.019287      0.027299\n",
       "Tempelhof-Schöneberg             0.066558      0.041667\n",
       "Treptow-Köpenick                 0.030860      0.047414"
      ]
     },
     "execution_count": 23,
     "metadata": {},
     "output_type": "execute_result"
    },
    {
     "data": {
      "text/plain": [
       "<AxesSubplot:title={'center':'Listings vs. Terraces (normalized to 1) per-District'}>"
      ]
     },
     "execution_count": 23,
     "metadata": {},
     "output_type": "execute_result"
    },
    {
     "data": {
      "image/png": "[encoded data removed]",
      "text/plain": [
       "<Figure size 1440x360 with 1 Axes>"
      ]
     },
     "metadata": {},
     "output_type": "display_data"
    }
   ],
   "source": [
    "xcol = 'district'\n",
    "group = 'terrace'\n",
    "\n",
    "# setup DataFrame for normalized per-district data\n",
    "df_berlin_district_norm = pd.DataFrame(\n",
    "    {'listings_norm': df_berlin[xcol].value_counts()/df_berlin[xcol].count(),\n",
    "     'terrace_norm' : df_berlin.loc[df_berlin[group], xcol].value_counts()/df_berlin[group].sum()})\n",
    "df_berlin_district_norm\n",
    "\n",
    "#create subplots: setup 2x2 Axes in one Figure \n",
    "fig, axes = plt.subplots(nrows=1, ncols=1, figsize=(20,5))\n",
    "df_berlin_district_norm.sort_values(by='listings_norm', ascending=False).plot.bar(ax=axes, rot=45, alpha=0.7,\n",
    "                                 title='Listings vs. Terraces (normalized to 1) per-District')"
   ]
  },
  {
   "cell_type": "markdown",
   "id": "c4b8f81d",
   "metadata": {},
   "source": [
    "**Observations:**\n",
    "- Fairly similar normalized listings vs terrace % per-district\n",
    "- Setting absolute number of listings aside:\n",
    "    - Pankow is the best bet to find a terrace compared to its share of listings\n",
    "    - Neukölln is the least likely district to find a terrace compared to its share of listings"
   ]
  },
  {
   "cell_type": "markdown",
   "id": "6a98a991",
   "metadata": {},
   "source": [
    "### Room type\n",
    "Which types of rental formats have high/low % of terraces within their listings normalized to the entire (current) dataset?"
   ]
  },
  {
   "cell_type": "code",
   "execution_count": 24,
   "id": "24a2a5cb",
   "metadata": {},
   "outputs": [
    {
     "data": {
      "text/html": [
       "<div>\n",
       "<style scoped>\n",
       "    .dataframe tbody tr th:only-of-type {\n",
       "        vertical-align: middle;\n",
       "    }\n",
       "\n",
       "    .dataframe tbody tr th {\n",
       "        vertical-align: top;\n",
       "    }\n",
       "\n",
       "    .dataframe thead th {\n",
       "        text-align: right;\n",
       "    }\n",
       "</style>\n",
       "<table border=\"1\" class=\"dataframe\">\n",
       "  <thead>\n",
       "    <tr style=\"text-align: right;\">\n",
       "      <th></th>\n",
       "      <th>listings_norm</th>\n",
       "      <th>terrace_norm</th>\n",
       "    </tr>\n",
       "  </thead>\n",
       "  <tbody>\n",
       "    <tr>\n",
       "      <th>Entire home/apt</th>\n",
       "      <td>0.555672</td>\n",
       "      <td>0.731322</td>\n",
       "    </tr>\n",
       "    <tr>\n",
       "      <th>Hotel room</th>\n",
       "      <td>0.007192</td>\n",
       "      <td>0.008621</td>\n",
       "    </tr>\n",
       "    <tr>\n",
       "      <th>Private room</th>\n",
       "      <td>0.423537</td>\n",
       "      <td>0.257184</td>\n",
       "    </tr>\n",
       "    <tr>\n",
       "      <th>Shared room</th>\n",
       "      <td>0.013599</td>\n",
       "      <td>0.002874</td>\n",
       "    </tr>\n",
       "  </tbody>\n",
       "</table>\n",
       "</div>"
      ],
      "text/plain": [
       "                 listings_norm  terrace_norm\n",
       "Entire home/apt       0.555672      0.731322\n",
       "Hotel room            0.007192      0.008621\n",
       "Private room          0.423537      0.257184\n",
       "Shared room           0.013599      0.002874"
      ]
     },
     "execution_count": 24,
     "metadata": {},
     "output_type": "execute_result"
    },
    {
     "data": {
      "text/plain": [
       "<AxesSubplot:title={'center':'Listings vs. Terraces (normalized to 1) per-Room Type'}>"
      ]
     },
     "execution_count": 24,
     "metadata": {},
     "output_type": "execute_result"
    },
    {
     "data": {
      "image/png": "[encoded data removed]",
      "text/plain": [
       "<Figure size 1440x360 with 1 Axes>"
      ]
     },
     "metadata": {},
     "output_type": "display_data"
    }
   ],
   "source": [
    "xcol = 'room_type'\n",
    "group = 'terrace'\n",
    "\n",
    "# setup DataFrame for normalized per-district data\n",
    "df_berlin_room_type_norm = pd.DataFrame(\n",
    "    {'listings_norm': df_berlin[xcol].value_counts()/df_berlin[xcol].count(),\n",
    "     'terrace_norm' : df_berlin.loc[df_berlin[group], xcol].value_counts()/df_berlin[group].sum()})\n",
    "df_berlin_room_type_norm\n",
    "\n",
    "#create subplots: setup 2x2 Axes in one Figure \n",
    "fig, axes = plt.subplots(nrows=1, ncols=1, figsize=(20,5))\n",
    "df_berlin_room_type_norm.sort_values(by='listings_norm', ascending=False).plot.bar(ax=axes, rot=45, alpha=0.7,\n",
    "                                 title='Listings vs. Terraces (normalized to 1) per-Room Type')"
   ]
  },
  {
   "cell_type": "markdown",
   "id": "9975403d",
   "metadata": {},
   "source": [
    "**Observations:**\n",
    "- Stronger data than district is room type!\n",
    "    - better choices in \"Entire home/apt\" than for \"Private room\" which makes functional sense\n",
    "    - shared and hotel rooms have very small numbers but \"Shared room\" is looking like the worse bet for finding a terrace"
   ]
  },
  {
   "cell_type": "markdown",
   "id": "7d47200f",
   "metadata": {},
   "source": [
    "### Multivariate - categorical\n",
    "\n",
    "This basically a Pivot Table (Microsoft Excel) style of comparison between our categorical variables.\n",
    "\n",
    "**Python - Pandas**\n",
    "- discovered `crosstab` which seems to be `pivot_table` with the ability to normalize (get a %) by rows or columns"
   ]
  },
  {
   "cell_type": "code",
   "execution_count": 25,
   "id": "0769959a",
   "metadata": {},
   "outputs": [
    {
     "data": {
      "text/html": [
       "<div>\n",
       "<style scoped>\n",
       "    .dataframe tbody tr th:only-of-type {\n",
       "        vertical-align: middle;\n",
       "    }\n",
       "\n",
       "    .dataframe tbody tr th {\n",
       "        vertical-align: top;\n",
       "    }\n",
       "\n",
       "    .dataframe thead th {\n",
       "        text-align: right;\n",
       "    }\n",
       "</style>\n",
       "<table border=\"1\" class=\"dataframe\">\n",
       "  <thead>\n",
       "    <tr style=\"text-align: right;\">\n",
       "      <th>room_type</th>\n",
       "      <th>Entire home/apt</th>\n",
       "      <th>Hotel room</th>\n",
       "      <th>Private room</th>\n",
       "      <th>Shared room</th>\n",
       "    </tr>\n",
       "    <tr>\n",
       "      <th>district</th>\n",
       "      <th></th>\n",
       "      <th></th>\n",
       "      <th></th>\n",
       "      <th></th>\n",
       "    </tr>\n",
       "  </thead>\n",
       "  <tbody>\n",
       "    <tr>\n",
       "      <th>Charlottenburg-Wilmersdorf</th>\n",
       "      <td>36</td>\n",
       "      <td>0</td>\n",
       "      <td>14</td>\n",
       "      <td>0</td>\n",
       "    </tr>\n",
       "    <tr>\n",
       "      <th>Friedrichshain-Kreuzberg</th>\n",
       "      <td>111</td>\n",
       "      <td>0</td>\n",
       "      <td>45</td>\n",
       "      <td>1</td>\n",
       "    </tr>\n",
       "    <tr>\n",
       "      <th>Lichtenberg</th>\n",
       "      <td>17</td>\n",
       "      <td>0</td>\n",
       "      <td>6</td>\n",
       "      <td>0</td>\n",
       "    </tr>\n",
       "    <tr>\n",
       "      <th>Marzahn-Hellersdorf</th>\n",
       "      <td>2</td>\n",
       "      <td>0</td>\n",
       "      <td>1</td>\n",
       "      <td>0</td>\n",
       "    </tr>\n",
       "    <tr>\n",
       "      <th>Mitte</th>\n",
       "      <td>115</td>\n",
       "      <td>6</td>\n",
       "      <td>36</td>\n",
       "      <td>0</td>\n",
       "    </tr>\n",
       "    <tr>\n",
       "      <th>Neukölln</th>\n",
       "      <td>37</td>\n",
       "      <td>0</td>\n",
       "      <td>24</td>\n",
       "      <td>1</td>\n",
       "    </tr>\n",
       "    <tr>\n",
       "      <th>Pankow</th>\n",
       "      <td>118</td>\n",
       "      <td>0</td>\n",
       "      <td>26</td>\n",
       "      <td>0</td>\n",
       "    </tr>\n",
       "    <tr>\n",
       "      <th>Reinickendorf</th>\n",
       "      <td>7</td>\n",
       "      <td>0</td>\n",
       "      <td>4</td>\n",
       "      <td>0</td>\n",
       "    </tr>\n",
       "    <tr>\n",
       "      <th>Spandau</th>\n",
       "      <td>6</td>\n",
       "      <td>0</td>\n",
       "      <td>2</td>\n",
       "      <td>0</td>\n",
       "    </tr>\n",
       "    <tr>\n",
       "      <th>Steglitz-Zehlendorf</th>\n",
       "      <td>12</td>\n",
       "      <td>0</td>\n",
       "      <td>7</td>\n",
       "      <td>0</td>\n",
       "    </tr>\n",
       "    <tr>\n",
       "      <th>Tempelhof-Schöneberg</th>\n",
       "      <td>22</td>\n",
       "      <td>0</td>\n",
       "      <td>7</td>\n",
       "      <td>0</td>\n",
       "    </tr>\n",
       "    <tr>\n",
       "      <th>Treptow-Köpenick</th>\n",
       "      <td>26</td>\n",
       "      <td>0</td>\n",
       "      <td>7</td>\n",
       "      <td>0</td>\n",
       "    </tr>\n",
       "  </tbody>\n",
       "</table>\n",
       "</div>"
      ],
      "text/plain": [
       "room_type                   Entire home/apt  Hotel room  Private room  \\\n",
       "district                                                                \n",
       "Charlottenburg-Wilmersdorf               36           0            14   \n",
       "Friedrichshain-Kreuzberg                111           0            45   \n",
       "Lichtenberg                              17           0             6   \n",
       "Marzahn-Hellersdorf                       2           0             1   \n",
       "Mitte                                   115           6            36   \n",
       "Neukölln                                 37           0            24   \n",
       "Pankow                                  118           0            26   \n",
       "Reinickendorf                             7           0             4   \n",
       "Spandau                                   6           0             2   \n",
       "Steglitz-Zehlendorf                      12           0             7   \n",
       "Tempelhof-Schöneberg                     22           0             7   \n",
       "Treptow-Köpenick                         26           0             7   \n",
       "\n",
       "room_type                   Shared room  \n",
       "district                                 \n",
       "Charlottenburg-Wilmersdorf            0  \n",
       "Friedrichshain-Kreuzberg              1  \n",
       "Lichtenberg                           0  \n",
       "Marzahn-Hellersdorf                   0  \n",
       "Mitte                                 0  \n",
       "Neukölln                              1  \n",
       "Pankow                                0  \n",
       "Reinickendorf                         0  \n",
       "Spandau                               0  \n",
       "Steglitz-Zehlendorf                   0  \n",
       "Tempelhof-Schöneberg                  0  \n",
       "Treptow-Köpenick                      0  "
      ]
     },
     "execution_count": 25,
     "metadata": {},
     "output_type": "execute_result"
    },
    {
     "data": {
      "text/html": [
       "<div>\n",
       "<style scoped>\n",
       "    .dataframe tbody tr th:only-of-type {\n",
       "        vertical-align: middle;\n",
       "    }\n",
       "\n",
       "    .dataframe tbody tr th {\n",
       "        vertical-align: top;\n",
       "    }\n",
       "\n",
       "    .dataframe thead th {\n",
       "        text-align: right;\n",
       "    }\n",
       "</style>\n",
       "<table border=\"1\" class=\"dataframe\">\n",
       "  <thead>\n",
       "    <tr style=\"text-align: right;\">\n",
       "      <th>room_type</th>\n",
       "      <th>Entire home/apt</th>\n",
       "      <th>Hotel room</th>\n",
       "      <th>Private room</th>\n",
       "      <th>Shared room</th>\n",
       "    </tr>\n",
       "    <tr>\n",
       "      <th>district</th>\n",
       "      <th></th>\n",
       "      <th></th>\n",
       "      <th></th>\n",
       "      <th></th>\n",
       "    </tr>\n",
       "  </thead>\n",
       "  <tbody>\n",
       "    <tr>\n",
       "      <th>Charlottenburg-Wilmersdorf</th>\n",
       "      <td>0.720000</td>\n",
       "      <td>0.000000</td>\n",
       "      <td>0.280000</td>\n",
       "      <td>0.000000</td>\n",
       "    </tr>\n",
       "    <tr>\n",
       "      <th>Friedrichshain-Kreuzberg</th>\n",
       "      <td>0.707006</td>\n",
       "      <td>0.000000</td>\n",
       "      <td>0.286624</td>\n",
       "      <td>0.006369</td>\n",
       "    </tr>\n",
       "    <tr>\n",
       "      <th>Lichtenberg</th>\n",
       "      <td>0.739130</td>\n",
       "      <td>0.000000</td>\n",
       "      <td>0.260870</td>\n",
       "      <td>0.000000</td>\n",
       "    </tr>\n",
       "    <tr>\n",
       "      <th>Marzahn-Hellersdorf</th>\n",
       "      <td>0.666667</td>\n",
       "      <td>0.000000</td>\n",
       "      <td>0.333333</td>\n",
       "      <td>0.000000</td>\n",
       "    </tr>\n",
       "    <tr>\n",
       "      <th>Mitte</th>\n",
       "      <td>0.732484</td>\n",
       "      <td>0.038217</td>\n",
       "      <td>0.229299</td>\n",
       "      <td>0.000000</td>\n",
       "    </tr>\n",
       "    <tr>\n",
       "      <th>Neukölln</th>\n",
       "      <td>0.596774</td>\n",
       "      <td>0.000000</td>\n",
       "      <td>0.387097</td>\n",
       "      <td>0.016129</td>\n",
       "    </tr>\n",
       "    <tr>\n",
       "      <th>Pankow</th>\n",
       "      <td>0.819444</td>\n",
       "      <td>0.000000</td>\n",
       "      <td>0.180556</td>\n",
       "      <td>0.000000</td>\n",
       "    </tr>\n",
       "    <tr>\n",
       "      <th>Reinickendorf</th>\n",
       "      <td>0.636364</td>\n",
       "      <td>0.000000</td>\n",
       "      <td>0.363636</td>\n",
       "      <td>0.000000</td>\n",
       "    </tr>\n",
       "    <tr>\n",
       "      <th>Spandau</th>\n",
       "      <td>0.750000</td>\n",
       "      <td>0.000000</td>\n",
       "      <td>0.250000</td>\n",
       "      <td>0.000000</td>\n",
       "    </tr>\n",
       "    <tr>\n",
       "      <th>Steglitz-Zehlendorf</th>\n",
       "      <td>0.631579</td>\n",
       "      <td>0.000000</td>\n",
       "      <td>0.368421</td>\n",
       "      <td>0.000000</td>\n",
       "    </tr>\n",
       "    <tr>\n",
       "      <th>Tempelhof-Schöneberg</th>\n",
       "      <td>0.758621</td>\n",
       "      <td>0.000000</td>\n",
       "      <td>0.241379</td>\n",
       "      <td>0.000000</td>\n",
       "    </tr>\n",
       "    <tr>\n",
       "      <th>Treptow-Köpenick</th>\n",
       "      <td>0.787879</td>\n",
       "      <td>0.000000</td>\n",
       "      <td>0.212121</td>\n",
       "      <td>0.000000</td>\n",
       "    </tr>\n",
       "  </tbody>\n",
       "</table>\n",
       "</div>"
      ],
      "text/plain": [
       "room_type                   Entire home/apt  Hotel room  Private room  \\\n",
       "district                                                                \n",
       "Charlottenburg-Wilmersdorf         0.720000    0.000000      0.280000   \n",
       "Friedrichshain-Kreuzberg           0.707006    0.000000      0.286624   \n",
       "Lichtenberg                        0.739130    0.000000      0.260870   \n",
       "Marzahn-Hellersdorf                0.666667    0.000000      0.333333   \n",
       "Mitte                              0.732484    0.038217      0.229299   \n",
       "Neukölln                           0.596774    0.000000      0.387097   \n",
       "Pankow                             0.819444    0.000000      0.180556   \n",
       "Reinickendorf                      0.636364    0.000000      0.363636   \n",
       "Spandau                            0.750000    0.000000      0.250000   \n",
       "Steglitz-Zehlendorf                0.631579    0.000000      0.368421   \n",
       "Tempelhof-Schöneberg               0.758621    0.000000      0.241379   \n",
       "Treptow-Köpenick                   0.787879    0.000000      0.212121   \n",
       "\n",
       "room_type                   Shared room  \n",
       "district                                 \n",
       "Charlottenburg-Wilmersdorf     0.000000  \n",
       "Friedrichshain-Kreuzberg       0.006369  \n",
       "Lichtenberg                    0.000000  \n",
       "Marzahn-Hellersdorf            0.000000  \n",
       "Mitte                          0.000000  \n",
       "Neukölln                       0.016129  \n",
       "Pankow                         0.000000  \n",
       "Reinickendorf                  0.000000  \n",
       "Spandau                        0.000000  \n",
       "Steglitz-Zehlendorf            0.000000  \n",
       "Tempelhof-Schöneberg           0.000000  \n",
       "Treptow-Köpenick               0.000000  "
      ]
     },
     "execution_count": 25,
     "metadata": {},
     "output_type": "execute_result"
    }
   ],
   "source": [
    "# use crosstab to normalize (i.e. % by row) for each district\n",
    "pd.crosstab(df_berlin.loc[df_berlin[group]]['district'], df_berlin.loc[df_berlin[group]]['room_type'])\n",
    "pd.crosstab(df_berlin.loc[df_berlin[group]]['district'], df_berlin.loc[df_berlin[group]]['room_type'],\n",
    "            normalize='index')"
   ]
  },
  {
   "cell_type": "markdown",
   "id": "303a95ce",
   "metadata": {},
   "source": [
    "**Observations:**\n",
    "- more Entire home/apt's with terraces than other room types holds up by-district\n",
    "- Pankow sticks out again for having the largest % of its terraces in \"Entire home/apt\" at 82%"
   ]
  },
  {
   "cell_type": "markdown",
   "id": "d4cdf069",
   "metadata": {},
   "source": [
    "### Data exploration - observations summary\n",
    "Best potential features for predicting terraces:\n",
    "- higher prices\n",
    "- more consistent high ratings\n",
    "- district: Pankow >> Neukölln\n",
    "- room type: Entire room/apt >> Private room >> Shared room\n",
    "\n",
    "Feature relationships:\n",
    "- Price vs ratings **range** (negative correlation)"
   ]
  },
  {
   "cell_type": "markdown",
   "id": "c36db314",
   "metadata": {},
   "source": [
    "## 3. Pre-process data\n",
    "\n",
    "**Scikit-learn's** decision trees do not allow categorical data as inputs so need to encode our categorical variables first to binary using `OneHotEncoder` which makes intuitive sense since Scikit-learn's `DecisionTreeClassifier` uses the CART algorithm which creates binary-split decision trees.\n",
    "\n",
    "**Note:\"\n",
    "- split the data before encoding to follow the \"don't introduce data leakage\" rule.\n",
    "\n",
    "### Split data\n",
    "Split into training (67%) and test (33%) data."
   ]
  },
  {
   "cell_type": "code",
   "execution_count": 26,
   "id": "13c5bd61",
   "metadata": {},
   "outputs": [],
   "source": [
    "# separate X (features) and y (class) columns\n",
    "X_cols = ['district', 'room_type', 'price', 'rating']\n",
    "df_berlin_X = df_berlin[X_cols]\n",
    "df_berlin_y = df_berlin['terrace']\n",
    "\n",
    "# split the dataset into train and test sets (returns DataFrame for X!)\n",
    "df_X_train, df_X_test, s_y_train, s_y_test = train_test_split(df_berlin_X, df_berlin_y, test_size=0.33, random_state=1)"
   ]
  },
  {
   "cell_type": "markdown",
   "id": "151ce7b3",
   "metadata": {},
   "source": [
    "### Encode categorical data\n",
    "\n",
    "Besides encoding, we also need to separate the categorical (for encoding) fom the numerical (leave as-is) columns, and then re-combine. I keep all data in **Pandas** DataFrames here for visibility's sake.\n",
    "\n",
    "**Python:**\n",
    "- need Pandas `reset_value` to re-align DataFrame indexes"
   ]
  },
  {
   "cell_type": "code",
   "execution_count": 27,
   "id": "638417a5",
   "metadata": {},
   "outputs": [],
   "source": [
    "# separate X numerical, categorical columns\n",
    "X_num = df_X_train.select_dtypes('number').columns\n",
    "X_cat = df_X_train.select_dtypes('category').columns\n",
    "y_label = s_y_train.name\n",
    "\n",
    "# reset indexing so re-combining num and cat columns works\n",
    "df_X_train.reset_index(inplace=True, drop=True)\n",
    "s_y_train.reset_index(inplace=True, drop=True)\n",
    "df_X_test.reset_index(inplace=True, drop=True)\n",
    "s_y_test.reset_index(inplace=True, drop=True)\n",
    "\n",
    "# one-hot encode categorical attributes only\n",
    "onehotenc = OneHotEncoder(sparse=False)\n",
    "df_X_train_catenc = pd.DataFrame(\n",
    "    onehotenc.fit_transform(df_X_train[X_cat]),\n",
    "    columns=onehotenc.get_feature_names(X_cat))\n",
    "df_X_test_catenc = pd.DataFrame(\n",
    "    onehotenc.transform(df_X_test[X_cat]),\n",
    "    columns=onehotenc.get_feature_names(X_cat))\n",
    "\n",
    "#combine back with numerical attributes\n",
    "df_X_train_enc = pd.concat([df_X_train_catenc, df_X_train[X_num]], axis=1)\n",
    "df_X_test_enc = pd.concat([df_X_test_catenc, df_X_test[X_num]], axis=1)\n",
    "\n",
    "#also need to encode the Y \"label\" (class) data\n",
    "labelenc = LabelEncoder()\n",
    "s_y_train_enc = pd.Series(labelenc.fit_transform(s_y_train), name=y_label)\n",
    "s_y_test_enc = pd.Series(labelenc.transform(s_y_test), name=y_label)"
   ]
  },
  {
   "cell_type": "markdown",
   "id": "1252b94d",
   "metadata": {},
   "source": [
    "## 4. Build model\n",
    "Instantiate and fit `DecisionTreeClassifier`.<br>\n",
    "Then check [feature importance](https://towardsdatascience.com/the-mathematics-of-decision-trees-random-forest-and-feature-importance-in-scikit-learn-and-spark-f2861df67e3) and the better (normalized) [permutation importance](https://scikit-learn.org/stable/modules/permutation_importance.html) results to see which features do the most decision \"work\" in the resulting tree. \n",
    "\n",
    "**Notes:**\n",
    "- using a tree depth of 10 here for a reasonable number of 241 leaf nodes\n",
    "- plotting deep trees is a bit problematic with the many leaf nodes bunched up in the resulting plot\n",
    "\n",
    "**Python:**\n",
    "- need NumPy `astype(str)` to input **boolean** class values as printable strings"
   ]
  },
  {
   "cell_type": "code",
   "execution_count": 28,
   "id": "984dc0df",
   "metadata": {},
   "outputs": [
    {
     "name": "stdout",
     "output_type": "stream",
     "text": [
      "Resulting tree has a depth of:  10\n",
      "Resulting tree has this number of leaf nodes:  241\n"
     ]
    },
    {
     "data": {
      "text/html": [
       "<div>\n",
       "<style scoped>\n",
       "    .dataframe tbody tr th:only-of-type {\n",
       "        vertical-align: middle;\n",
       "    }\n",
       "\n",
       "    .dataframe tbody tr th {\n",
       "        vertical-align: top;\n",
       "    }\n",
       "\n",
       "    .dataframe thead th {\n",
       "        text-align: right;\n",
       "    }\n",
       "</style>\n",
       "<table border=\"1\" class=\"dataframe\">\n",
       "  <thead>\n",
       "    <tr style=\"text-align: right;\">\n",
       "      <th></th>\n",
       "      <th>feature_importances_</th>\n",
       "      <th>permutation_importances_train</th>\n",
       "      <th>permutation_importances_train_norm</th>\n",
       "    </tr>\n",
       "  </thead>\n",
       "  <tbody>\n",
       "    <tr>\n",
       "      <th>price</th>\n",
       "      <td>0.483909</td>\n",
       "      <td>0.015517</td>\n",
       "      <td>0.389229</td>\n",
       "    </tr>\n",
       "    <tr>\n",
       "      <th>rating</th>\n",
       "      <td>0.310029</td>\n",
       "      <td>0.009622</td>\n",
       "      <td>0.241371</td>\n",
       "    </tr>\n",
       "    <tr>\n",
       "      <th>district_Mitte</th>\n",
       "      <td>0.036072</td>\n",
       "      <td>0.000963</td>\n",
       "      <td>0.024153</td>\n",
       "    </tr>\n",
       "    <tr>\n",
       "      <th>room_type_Entire home/apt</th>\n",
       "      <td>0.020644</td>\n",
       "      <td>0.000797</td>\n",
       "      <td>0.019992</td>\n",
       "    </tr>\n",
       "    <tr>\n",
       "      <th>district_Friedrichshain-Kreuzberg</th>\n",
       "      <td>0.019095</td>\n",
       "      <td>0.000381</td>\n",
       "      <td>0.009547</td>\n",
       "    </tr>\n",
       "    <tr>\n",
       "      <th>room_type_Hotel room</th>\n",
       "      <td>0.014747</td>\n",
       "      <td>0.001828</td>\n",
       "      <td>0.045859</td>\n",
       "    </tr>\n",
       "    <tr>\n",
       "      <th>room_type_Private room</th>\n",
       "      <td>0.013847</td>\n",
       "      <td>0.001958</td>\n",
       "      <td>0.049123</td>\n",
       "    </tr>\n",
       "    <tr>\n",
       "      <th>district_Reinickendorf</th>\n",
       "      <td>0.013499</td>\n",
       "      <td>0.000667</td>\n",
       "      <td>0.016728</td>\n",
       "    </tr>\n",
       "    <tr>\n",
       "      <th>district_Pankow</th>\n",
       "      <td>0.013480</td>\n",
       "      <td>0.000729</td>\n",
       "      <td>0.018278</td>\n",
       "    </tr>\n",
       "    <tr>\n",
       "      <th>district_Spandau</th>\n",
       "      <td>0.012327</td>\n",
       "      <td>0.001422</td>\n",
       "      <td>0.035659</td>\n",
       "    </tr>\n",
       "    <tr>\n",
       "      <th>district_Lichtenberg</th>\n",
       "      <td>0.011690</td>\n",
       "      <td>0.001217</td>\n",
       "      <td>0.030518</td>\n",
       "    </tr>\n",
       "    <tr>\n",
       "      <th>district_Steglitz-Zehlendorf</th>\n",
       "      <td>0.011294</td>\n",
       "      <td>0.000608</td>\n",
       "      <td>0.015259</td>\n",
       "    </tr>\n",
       "    <tr>\n",
       "      <th>district_Charlottenburg-Wilmersdorf</th>\n",
       "      <td>0.010630</td>\n",
       "      <td>0.000237</td>\n",
       "      <td>0.005957</td>\n",
       "    </tr>\n",
       "    <tr>\n",
       "      <th>district_Treptow-Köpenick</th>\n",
       "      <td>0.009161</td>\n",
       "      <td>0.001708</td>\n",
       "      <td>0.042840</td>\n",
       "    </tr>\n",
       "    <tr>\n",
       "      <th>district_Neukölln</th>\n",
       "      <td>0.008410</td>\n",
       "      <td>0.001291</td>\n",
       "      <td>0.032395</td>\n",
       "    </tr>\n",
       "    <tr>\n",
       "      <th>district_Tempelhof-Schöneberg</th>\n",
       "      <td>0.006677</td>\n",
       "      <td>0.000722</td>\n",
       "      <td>0.018115</td>\n",
       "    </tr>\n",
       "    <tr>\n",
       "      <th>room_type_Shared room</th>\n",
       "      <td>0.002763</td>\n",
       "      <td>0.000000</td>\n",
       "      <td>0.000000</td>\n",
       "    </tr>\n",
       "    <tr>\n",
       "      <th>district_Marzahn-Hellersdorf</th>\n",
       "      <td>0.001726</td>\n",
       "      <td>0.000198</td>\n",
       "      <td>0.004978</td>\n",
       "    </tr>\n",
       "  </tbody>\n",
       "</table>\n",
       "</div>"
      ],
      "text/plain": [
       "                                     feature_importances_  \\\n",
       "price                                            0.483909   \n",
       "rating                                           0.310029   \n",
       "district_Mitte                                   0.036072   \n",
       "room_type_Entire home/apt                        0.020644   \n",
       "district_Friedrichshain-Kreuzberg                0.019095   \n",
       "room_type_Hotel room                             0.014747   \n",
       "room_type_Private room                           0.013847   \n",
       "district_Reinickendorf                           0.013499   \n",
       "district_Pankow                                  0.013480   \n",
       "district_Spandau                                 0.012327   \n",
       "district_Lichtenberg                             0.011690   \n",
       "district_Steglitz-Zehlendorf                     0.011294   \n",
       "district_Charlottenburg-Wilmersdorf              0.010630   \n",
       "district_Treptow-Köpenick                        0.009161   \n",
       "district_Neukölln                                0.008410   \n",
       "district_Tempelhof-Schöneberg                    0.006677   \n",
       "room_type_Shared room                            0.002763   \n",
       "district_Marzahn-Hellersdorf                     0.001726   \n",
       "\n",
       "                                     permutation_importances_train  \\\n",
       "price                                                     0.015517   \n",
       "rating                                                    0.009622   \n",
       "district_Mitte                                            0.000963   \n",
       "room_type_Entire home/apt                                 0.000797   \n",
       "district_Friedrichshain-Kreuzberg                         0.000381   \n",
       "room_type_Hotel room                                      0.001828   \n",
       "room_type_Private room                                    0.001958   \n",
       "district_Reinickendorf                                    0.000667   \n",
       "district_Pankow                                           0.000729   \n",
       "district_Spandau                                          0.001422   \n",
       "district_Lichtenberg                                      0.001217   \n",
       "district_Steglitz-Zehlendorf                              0.000608   \n",
       "district_Charlottenburg-Wilmersdorf                       0.000237   \n",
       "district_Treptow-Köpenick                                 0.001708   \n",
       "district_Neukölln                                         0.001291   \n",
       "district_Tempelhof-Schöneberg                             0.000722   \n",
       "room_type_Shared room                                     0.000000   \n",
       "district_Marzahn-Hellersdorf                              0.000198   \n",
       "\n",
       "                                     permutation_importances_train_norm  \n",
       "price                                                          0.389229  \n",
       "rating                                                         0.241371  \n",
       "district_Mitte                                                 0.024153  \n",
       "room_type_Entire home/apt                                      0.019992  \n",
       "district_Friedrichshain-Kreuzberg                              0.009547  \n",
       "room_type_Hotel room                                           0.045859  \n",
       "room_type_Private room                                         0.049123  \n",
       "district_Reinickendorf                                         0.016728  \n",
       "district_Pankow                                                0.018278  \n",
       "district_Spandau                                               0.035659  \n",
       "district_Lichtenberg                                           0.030518  \n",
       "district_Steglitz-Zehlendorf                                   0.015259  \n",
       "district_Charlottenburg-Wilmersdorf                            0.005957  \n",
       "district_Treptow-Köpenick                                      0.042840  \n",
       "district_Neukölln                                              0.032395  \n",
       "district_Tempelhof-Schöneberg                                  0.018115  \n",
       "room_type_Shared room                                          0.000000  \n",
       "district_Marzahn-Hellersdorf                                   0.004978  "
      ]
     },
     "execution_count": 28,
     "metadata": {},
     "output_type": "execute_result"
    }
   ],
   "source": [
    "dt_model = DecisionTreeClassifier(criterion='gini', random_state=1, max_depth=10)\n",
    "dt_model = dt_model.fit(df_X_train_enc, s_y_train_enc)\n",
    "\n",
    "print (\"Resulting tree has a depth of: \", dt_model.get_depth())\n",
    "print (\"Resulting tree has this number of leaf nodes: \", dt_model.get_n_leaves())\n",
    "\n",
    "# Feature Importances calculation\n",
    "df_model_fi = pd.DataFrame(index=df_X_train_enc.columns)\n",
    "df_model_fi['feature_importances_'] = dt_model.feature_importances_\n",
    "\n",
    "# Better Permutation Feature Importances\n",
    "df_model_fi['permutation_importances_train'] = permutation_importance(\n",
    "    dt_model, df_X_train_enc, s_y_train_enc, n_repeats=30, random_state=1)['importances_mean']\n",
    "df_model_fi['permutation_importances_train_norm'] = df_model_fi[\n",
    "    'permutation_importances_train']/df_model_fi['permutation_importances_train'].sum()\n",
    "df_model_fi.sort_values(by='feature_importances_', ascending=False)\n",
    "\n",
    "# plot built tree\n",
    "#fig, ax = plt.subplots(nrows=1, ncols=1, figsize=(100,100))\n",
    "#plot_tree(dt_model, ax=ax, fontsize=12, filled=True, rounded=True,\n",
    "#          feature_names=df_X_train_enc.columns, class_names=labelenc.classes_.astype(str))\n",
    "#plt.savefig('images/berlin_terraces_tree_balanced_depth11.png')\n"
   ]
  },
  {
   "cell_type": "markdown",
   "id": "7b4f6bee",
   "metadata": {},
   "source": [
    "**Observations:**\n",
    "- Indeed, price and rating are the most important features for our current data"
   ]
  },
  {
   "cell_type": "markdown",
   "id": "4c5b59d0",
   "metadata": {},
   "source": [
    "## 5. Evaluate model\n",
    "Let's see how the model does against our test data using the very helfpul **Confusion Matrix**, particularly the **True recall** score meaning how many of the actual terraces are being predicted as terraces by our decision tree model?"
   ]
  },
  {
   "cell_type": "code",
   "execution_count": 29,
   "id": "e3658861",
   "metadata": {},
   "outputs": [
    {
     "data": {
      "text/plain": [
       "<sklearn.metrics._plot.confusion_matrix.ConfusionMatrixDisplay at 0x1244e3460>"
      ]
     },
     "execution_count": 29,
     "metadata": {},
     "output_type": "execute_result"
    },
    {
     "name": "stdout",
     "output_type": "stream",
     "text": [
      "              precision    recall  f1-score   support\n",
      "\n",
      "       False       0.95      0.99      0.97      4813\n",
      "        True       0.06      0.01      0.01       235\n",
      "\n",
      "    accuracy                           0.95      5048\n",
      "   macro avg       0.51      0.50      0.49      5048\n",
      "weighted avg       0.91      0.95      0.93      5048\n",
      "\n"
     ]
    },
    {
     "data": {
      "image/png": "[encoded data removed]",
      "text/plain": [
       "<Figure size 360x360 with 2 Axes>"
      ]
     },
     "metadata": {},
     "output_type": "display_data"
    }
   ],
   "source": [
    "s_y_predicted = pd.Series(dt_model.predict(df_X_test_enc), name=y_label)\n",
    "#accuracy_score(s_Y_test, s_Y_predicted)\n",
    "#golf_tree.score(df_X_test, s_Y_test) #returns \"score: Mean accuracy of self.predict(X) wrt. y.\"\n",
    "\n",
    "#confusion_matrix(s_Y_test, s_Y_predicted) #normalize: {‘true’, ‘pred’, ‘all’}\n",
    "fig, ax = plt.subplots(nrows=1, ncols=1, figsize=(5,5))\n",
    "ax.grid(False)\n",
    "ax.tick_params(top=True, bottom=False, labeltop=True, labelbottom=False)\n",
    "plot_confusion_matrix(dt_model, df_X_test_enc, s_y_test_enc,\n",
    "                      display_labels=labelenc.classes_.astype(str), cmap='YlGn', ax=ax)\n",
    "\n",
    "print(classification_report(s_y_test_enc, s_y_predicted, target_names=labelenc.classes_.astype(str)))"
   ]
  },
  {
   "cell_type": "markdown",
   "id": "42bbd460",
   "metadata": {},
   "source": [
    "**Observations:**\n",
    "- Not good! only 2 out of the 235 terraces (or 1%) in the test data were predicted to be terraces!\n",
    "- Remove the max_depth constraint (resulting depth of 26) gave the best true recall at a still low 6%"
   ]
  },
  {
   "cell_type": "markdown",
   "id": "58c107a6",
   "metadata": {},
   "source": [
    "### Balance Class Weights!\n",
    "I had a feeling that the [unbalanced](https://machinelearningmastery.com/cost-sensitive-decision-trees-for-imbalanced-classification/) class weights are the problem. Thankfully, the `DecisionTreeClassifier` has a **class_weight** parameter to do exactly that!<br>\n",
    "Let's re-build the model with **balanced classes**."
   ]
  },
  {
   "cell_type": "code",
   "execution_count": 30,
   "id": "85c59e8b",
   "metadata": {},
   "outputs": [
    {
     "name": "stdout",
     "output_type": "stream",
     "text": [
      "Resulting tree has a depth of:  11\n",
      "Resulting tree has this number of leaf nodes:  268\n"
     ]
    },
    {
     "data": {
      "text/html": [
       "<div>\n",
       "<style scoped>\n",
       "    .dataframe tbody tr th:only-of-type {\n",
       "        vertical-align: middle;\n",
       "    }\n",
       "\n",
       "    .dataframe tbody tr th {\n",
       "        vertical-align: top;\n",
       "    }\n",
       "\n",
       "    .dataframe thead th {\n",
       "        text-align: right;\n",
       "    }\n",
       "</style>\n",
       "<table border=\"1\" class=\"dataframe\">\n",
       "  <thead>\n",
       "    <tr style=\"text-align: right;\">\n",
       "      <th></th>\n",
       "      <th>feature_importances_</th>\n",
       "      <th>permutation_importances_train</th>\n",
       "      <th>permutation_importances_train_norm</th>\n",
       "    </tr>\n",
       "  </thead>\n",
       "  <tbody>\n",
       "    <tr>\n",
       "      <th>price</th>\n",
       "      <td>5.776822e-01</td>\n",
       "      <td>-0.012901</td>\n",
       "      <td>1.669895</td>\n",
       "    </tr>\n",
       "    <tr>\n",
       "      <th>rating</th>\n",
       "      <td>2.116373e-01</td>\n",
       "      <td>0.016096</td>\n",
       "      <td>-2.083368</td>\n",
       "    </tr>\n",
       "    <tr>\n",
       "      <th>district_Friedrichshain-Kreuzberg</th>\n",
       "      <td>3.004305e-02</td>\n",
       "      <td>0.001688</td>\n",
       "      <td>-0.218526</td>\n",
       "    </tr>\n",
       "    <tr>\n",
       "      <th>district_Treptow-Köpenick</th>\n",
       "      <td>2.530617e-02</td>\n",
       "      <td>0.003126</td>\n",
       "      <td>-0.404632</td>\n",
       "    </tr>\n",
       "    <tr>\n",
       "      <th>room_type_Entire home/apt</th>\n",
       "      <td>2.476623e-02</td>\n",
       "      <td>-0.017260</td>\n",
       "      <td>2.234105</td>\n",
       "    </tr>\n",
       "    <tr>\n",
       "      <th>district_Tempelhof-Schöneberg</th>\n",
       "      <td>2.064906e-02</td>\n",
       "      <td>0.005228</td>\n",
       "      <td>-0.676632</td>\n",
       "    </tr>\n",
       "    <tr>\n",
       "      <th>district_Mitte</th>\n",
       "      <td>2.023490e-02</td>\n",
       "      <td>0.001002</td>\n",
       "      <td>-0.129684</td>\n",
       "    </tr>\n",
       "    <tr>\n",
       "      <th>district_Neukölln</th>\n",
       "      <td>1.604763e-02</td>\n",
       "      <td>0.001330</td>\n",
       "      <td>-0.172211</td>\n",
       "    </tr>\n",
       "    <tr>\n",
       "      <th>district_Pankow</th>\n",
       "      <td>1.414945e-02</td>\n",
       "      <td>0.004775</td>\n",
       "      <td>-0.618105</td>\n",
       "    </tr>\n",
       "    <tr>\n",
       "      <th>room_type_Private room</th>\n",
       "      <td>1.054852e-02</td>\n",
       "      <td>-0.016480</td>\n",
       "      <td>2.133053</td>\n",
       "    </tr>\n",
       "    <tr>\n",
       "      <th>district_Charlottenburg-Wilmersdorf</th>\n",
       "      <td>1.023135e-02</td>\n",
       "      <td>0.001086</td>\n",
       "      <td>-0.140632</td>\n",
       "    </tr>\n",
       "    <tr>\n",
       "      <th>district_Lichtenberg</th>\n",
       "      <td>9.311467e-03</td>\n",
       "      <td>0.001962</td>\n",
       "      <td>-0.253895</td>\n",
       "    </tr>\n",
       "    <tr>\n",
       "      <th>room_type_Hotel room</th>\n",
       "      <td>8.856758e-03</td>\n",
       "      <td>0.000816</td>\n",
       "      <td>-0.105684</td>\n",
       "    </tr>\n",
       "    <tr>\n",
       "      <th>district_Marzahn-Hellersdorf</th>\n",
       "      <td>8.752783e-03</td>\n",
       "      <td>0.000973</td>\n",
       "      <td>-0.125895</td>\n",
       "    </tr>\n",
       "    <tr>\n",
       "      <th>district_Spandau</th>\n",
       "      <td>7.910674e-03</td>\n",
       "      <td>0.000533</td>\n",
       "      <td>-0.069053</td>\n",
       "    </tr>\n",
       "    <tr>\n",
       "      <th>district_Reinickendorf</th>\n",
       "      <td>3.872451e-03</td>\n",
       "      <td>0.000299</td>\n",
       "      <td>-0.038737</td>\n",
       "    </tr>\n",
       "    <tr>\n",
       "      <th>room_type_Shared room</th>\n",
       "      <td>4.024367e-17</td>\n",
       "      <td>0.000000</td>\n",
       "      <td>-0.000000</td>\n",
       "    </tr>\n",
       "    <tr>\n",
       "      <th>district_Steglitz-Zehlendorf</th>\n",
       "      <td>1.282341e-17</td>\n",
       "      <td>0.000000</td>\n",
       "      <td>-0.000000</td>\n",
       "    </tr>\n",
       "  </tbody>\n",
       "</table>\n",
       "</div>"
      ],
      "text/plain": [
       "                                     feature_importances_  \\\n",
       "price                                        5.776822e-01   \n",
       "rating                                       2.116373e-01   \n",
       "district_Friedrichshain-Kreuzberg            3.004305e-02   \n",
       "district_Treptow-Köpenick                    2.530617e-02   \n",
       "room_type_Entire home/apt                    2.476623e-02   \n",
       "district_Tempelhof-Schöneberg                2.064906e-02   \n",
       "district_Mitte                               2.023490e-02   \n",
       "district_Neukölln                            1.604763e-02   \n",
       "district_Pankow                              1.414945e-02   \n",
       "room_type_Private room                       1.054852e-02   \n",
       "district_Charlottenburg-Wilmersdorf          1.023135e-02   \n",
       "district_Lichtenberg                         9.311467e-03   \n",
       "room_type_Hotel room                         8.856758e-03   \n",
       "district_Marzahn-Hellersdorf                 8.752783e-03   \n",
       "district_Spandau                             7.910674e-03   \n",
       "district_Reinickendorf                       3.872451e-03   \n",
       "room_type_Shared room                        4.024367e-17   \n",
       "district_Steglitz-Zehlendorf                 1.282341e-17   \n",
       "\n",
       "                                     permutation_importances_train  \\\n",
       "price                                                    -0.012901   \n",
       "rating                                                    0.016096   \n",
       "district_Friedrichshain-Kreuzberg                         0.001688   \n",
       "district_Treptow-Köpenick                                 0.003126   \n",
       "room_type_Entire home/apt                                -0.017260   \n",
       "district_Tempelhof-Schöneberg                             0.005228   \n",
       "district_Mitte                                            0.001002   \n",
       "district_Neukölln                                         0.001330   \n",
       "district_Pankow                                           0.004775   \n",
       "room_type_Private room                                   -0.016480   \n",
       "district_Charlottenburg-Wilmersdorf                       0.001086   \n",
       "district_Lichtenberg                                      0.001962   \n",
       "room_type_Hotel room                                      0.000816   \n",
       "district_Marzahn-Hellersdorf                              0.000973   \n",
       "district_Spandau                                          0.000533   \n",
       "district_Reinickendorf                                    0.000299   \n",
       "room_type_Shared room                                     0.000000   \n",
       "district_Steglitz-Zehlendorf                              0.000000   \n",
       "\n",
       "                                     permutation_importances_train_norm  \n",
       "price                                                          1.669895  \n",
       "rating                                                        -2.083368  \n",
       "district_Friedrichshain-Kreuzberg                             -0.218526  \n",
       "district_Treptow-Köpenick                                     -0.404632  \n",
       "room_type_Entire home/apt                                      2.234105  \n",
       "district_Tempelhof-Schöneberg                                 -0.676632  \n",
       "district_Mitte                                                -0.129684  \n",
       "district_Neukölln                                             -0.172211  \n",
       "district_Pankow                                               -0.618105  \n",
       "room_type_Private room                                         2.133053  \n",
       "district_Charlottenburg-Wilmersdorf                           -0.140632  \n",
       "district_Lichtenberg                                          -0.253895  \n",
       "room_type_Hotel room                                          -0.105684  \n",
       "district_Marzahn-Hellersdorf                                  -0.125895  \n",
       "district_Spandau                                              -0.069053  \n",
       "district_Reinickendorf                                        -0.038737  \n",
       "room_type_Shared room                                         -0.000000  \n",
       "district_Steglitz-Zehlendorf                                  -0.000000  "
      ]
     },
     "execution_count": 30,
     "metadata": {},
     "output_type": "execute_result"
    },
    {
     "data": {
      "text/plain": [
       "<sklearn.metrics._plot.confusion_matrix.ConfusionMatrixDisplay at 0x12458fd00>"
      ]
     },
     "execution_count": 30,
     "metadata": {},
     "output_type": "execute_result"
    },
    {
     "name": "stdout",
     "output_type": "stream",
     "text": [
      "              precision    recall  f1-score   support\n",
      "\n",
      "       False       0.97      0.62      0.76      4813\n",
      "        True       0.07      0.56      0.12       235\n",
      "\n",
      "    accuracy                           0.62      5048\n",
      "   macro avg       0.52      0.59      0.44      5048\n",
      "weighted avg       0.93      0.62      0.73      5048\n",
      "\n"
     ]
    },
    {
     "data": {
      "image/png": "[encoded data removed]",
      "text/plain": [
       "<Figure size 360x360 with 2 Axes>"
      ]
     },
     "metadata": {},
     "output_type": "display_data"
    }
   ],
   "source": [
    "# BUILD MODEL\n",
    "dt_model = DecisionTreeClassifier(criterion='gini', random_state=1, class_weight='balanced', max_depth=11)\n",
    "dt_model = dt_model.fit(df_X_train_enc, s_y_train_enc)\n",
    "\n",
    "print (\"Resulting tree has a depth of: \", dt_model.get_depth())\n",
    "print (\"Resulting tree has this number of leaf nodes: \", dt_model.get_n_leaves())\n",
    "\n",
    "# Feature Importances calculation\n",
    "df_model_fi = pd.DataFrame(index=df_X_train_enc.columns)\n",
    "df_model_fi['feature_importances_'] = dt_model.feature_importances_\n",
    "\n",
    "# Better Permutation Feature Importances\n",
    "df_model_fi['permutation_importances_train'] = permutation_importance(\n",
    "    dt_model, df_X_train_enc, s_y_train_enc, n_repeats=30, random_state=1)['importances_mean']\n",
    "df_model_fi['permutation_importances_train_norm'] = df_model_fi[\n",
    "    'permutation_importances_train']/df_model_fi['permutation_importances_train'].sum()\n",
    "df_model_fi.sort_values(by='feature_importances_', ascending=False)\n",
    "\n",
    "# EVALUATE MODEL\n",
    "s_y_predicted = pd.Series(dt_model.predict(df_X_test_enc), name=y_label)\n",
    "#accuracy_score(s_Y_test, s_Y_predicted)\n",
    "#golf_tree.score(df_X_test, s_Y_test) #returns \"score: Mean accuracy of self.predict(X) wrt. y.\"\n",
    "\n",
    "#confusion_matrix(s_Y_test, s_Y_predicted) #normalize: {‘true’, ‘pred’, ‘all’}\n",
    "fig, ax = plt.subplots(nrows=1, ncols=1, figsize=(5,5))\n",
    "ax.grid(False)\n",
    "ax.tick_params(top=True, bottom=False, labeltop=True, labelbottom=False)\n",
    "plot_confusion_matrix(dt_model, df_X_test_enc, s_y_test_enc,\n",
    "                      display_labels=labelenc.classes_.astype(str), cmap='YlGn', ax=ax)\n",
    "\n",
    "print(classification_report(s_y_test_enc, s_y_predicted, target_names=labelenc.classes_.astype(str)))"
   ]
  },
  {
   "cell_type": "markdown",
   "id": "bef6717e",
   "metadata": {},
   "source": [
    "**Observations:**<br>\n",
    "And here are my \"Aha!\" moments:\n",
    "- balanced weight classes (with no max_depth constraint) boosted terrace=True recall from 1% to 12% (some hope)\n",
    "- pruning down and then back up using **max_depth**, I hit a peak **True recall of 56% (!!)** at tree depth of 11\n",
    "- this definitely needs a GridSearchCV to see how much higher we can get this up\n",
    "- not sure what happened to the permutation importances going negative, need to explore..."
   ]
  },
  {
   "cell_type": "markdown",
   "id": "ce6eea53",
   "metadata": {},
   "source": [
    "## 6. Optimize model\n",
    "### Grid search (tuning paramaters) and cross-validate (training/test data variation)\n",
    "Use the amazing [`GridSearchCV`](https://scikit-learn.org/stable/modules/generated/sklearn.model_selection.GridSearchCV.html#sklearn.model_selection.GridSearchCV) which does grid search (vary a prescribed \"grid\" of parameters x value ranges) AND [cross-validation](https://scikit-learn.org/stable/modules/cross_validation.html) of data in **one line of code**."
   ]
  },
  {
   "cell_type": "code",
   "execution_count": 31,
   "id": "70cb23d6",
   "metadata": {},
   "outputs": [
    {
     "name": "stdout",
     "output_type": "stream",
     "text": [
      "Best cross-validated recall score: 0.7131738728758001\n"
     ]
    },
    {
     "data": {
      "text/plain": [
       "{'criterion': 'gini',\n",
       " 'max_depth': 14,\n",
       " 'min_impurity_decrease': 0,\n",
       " 'min_samples_leaf': 1,\n",
       " 'min_samples_split': 2}"
      ]
     },
     "execution_count": 31,
     "metadata": {},
     "output_type": "execute_result"
    },
    {
     "data": {
      "text/html": [
       "<div>\n",
       "<style scoped>\n",
       "    .dataframe tbody tr th:only-of-type {\n",
       "        vertical-align: middle;\n",
       "    }\n",
       "\n",
       "    .dataframe tbody tr th {\n",
       "        vertical-align: top;\n",
       "    }\n",
       "\n",
       "    .dataframe thead th {\n",
       "        text-align: right;\n",
       "    }\n",
       "</style>\n",
       "<table border=\"1\" class=\"dataframe\">\n",
       "  <thead>\n",
       "    <tr style=\"text-align: right;\">\n",
       "      <th></th>\n",
       "      <th>mean_fit_time</th>\n",
       "      <th>std_fit_time</th>\n",
       "      <th>mean_score_time</th>\n",
       "      <th>std_score_time</th>\n",
       "      <th>param_criterion</th>\n",
       "      <th>param_max_depth</th>\n",
       "      <th>param_min_impurity_decrease</th>\n",
       "      <th>param_min_samples_leaf</th>\n",
       "      <th>param_min_samples_split</th>\n",
       "      <th>params</th>\n",
       "      <th>split0_test_score</th>\n",
       "      <th>split1_test_score</th>\n",
       "      <th>split2_test_score</th>\n",
       "      <th>split3_test_score</th>\n",
       "      <th>mean_test_score</th>\n",
       "      <th>std_test_score</th>\n",
       "      <th>rank_test_score</th>\n",
       "    </tr>\n",
       "  </thead>\n",
       "  <tbody>\n",
       "    <tr>\n",
       "      <th>432</th>\n",
       "      <td>0.065373</td>\n",
       "      <td>0.013773</td>\n",
       "      <td>0.009212</td>\n",
       "      <td>0.003447</td>\n",
       "      <td>gini</td>\n",
       "      <td>14</td>\n",
       "      <td>0</td>\n",
       "      <td>1</td>\n",
       "      <td>2</td>\n",
       "      <td>{'criterion': 'gini', 'max_depth': 14, 'min_im...</td>\n",
       "      <td>0.725418</td>\n",
       "      <td>0.726987</td>\n",
       "      <td>0.69273</td>\n",
       "      <td>0.70756</td>\n",
       "      <td>0.713174</td>\n",
       "      <td>0.014055</td>\n",
       "      <td>1</td>\n",
       "    </tr>\n",
       "  </tbody>\n",
       "</table>\n",
       "</div>"
      ],
      "text/plain": [
       "     mean_fit_time  std_fit_time  mean_score_time  std_score_time  \\\n",
       "432       0.065373      0.013773         0.009212        0.003447   \n",
       "\n",
       "    param_criterion param_max_depth param_min_impurity_decrease  \\\n",
       "432            gini              14                           0   \n",
       "\n",
       "    param_min_samples_leaf param_min_samples_split  \\\n",
       "432                      1                       2   \n",
       "\n",
       "                                                params  split0_test_score  \\\n",
       "432  {'criterion': 'gini', 'max_depth': 14, 'min_im...           0.725418   \n",
       "\n",
       "     split1_test_score  split2_test_score  split3_test_score  mean_test_score  \\\n",
       "432           0.726987            0.69273            0.70756         0.713174   \n",
       "\n",
       "     std_test_score  rank_test_score  \n",
       "432        0.014055                1  "
      ]
     },
     "execution_count": 31,
     "metadata": {},
     "output_type": "execute_result"
    },
    {
     "name": "stdout",
     "output_type": "stream",
     "text": [
      "Min split score: 0.045502092050209206\n",
      "Max split score: 0.7881245095474758\n"
     ]
    }
   ],
   "source": [
    "# define the model (its parameters will be grid-searched)\n",
    "opt_model = DecisionTreeClassifier(random_state=1, class_weight='balanced')\n",
    "\n",
    "# define search space\n",
    "param_grid = dict()\n",
    "param_grid['criterion'] = ['gini', 'entropy']\n",
    "param_grid['max_depth'] = np.arange(5, 15) #arange does not include last element, rounding error N/A for integers\n",
    "param_grid['min_samples_split'] = np.arange(2, 6) #logically >= min_samples_leaf + 1\n",
    "param_grid['min_samples_leaf'] = np.arange(1, 5)\n",
    "param_grid['min_impurity_decrease'] = [0, 0.25, 0.5] #gini vs entropy\n",
    "\n",
    "# combine training and test (n=28) one-hot-encoded X, Y data from above\n",
    "df_X_all_enc = pd.concat([df_X_train_enc, df_X_test_enc]) #indexes are still [0..n, 0..n] but that's OK\n",
    "s_y_all_enc = pd.concat([s_y_train_enc, s_y_test_enc]) #indexes are still [0..n, 0..n] but that's OK\n",
    "\n",
    "# define search\n",
    "search = GridSearchCV(opt_model, param_grid,\n",
    "                      scoring='accuracy', #uses metrics.accuracy_score\n",
    "                      cv=4, #current dataset n=~15k so 5 K-folds of n=~3k each\n",
    "                      refit=True) #Refit an estimator using the best found parameters on the whole dataset.\n",
    "\n",
    "# execute search\n",
    "result = search.fit(df_X_all_enc, s_y_all_enc)\n",
    "\n",
    "# output results\n",
    "print(\"Best cross-validated recall score:\", result.best_score_) #Mean cross-validated score of the best_estimator\n",
    "result.best_params_ #Parameter setting that gave the best results on the hold out data\n",
    "\n",
    "df_cv_results = pd.DataFrame(result.cv_results_) #A dict with keys as column headers and values as columns\n",
    "df_cv_results.loc[df_cv_results['rank_test_score'] == 1]\n",
    "print(\"Min split score:\", df_cv_results[['split0_test_score', 'split1_test_score', 'split2_test_score', 'split3_test_score']].min().min())\n",
    "print(\"Max split score:\",df_cv_results[['split0_test_score', 'split1_test_score', 'split2_test_score', 'split3_test_score']].max().max())\n",
    "#df_cv_results.to_csv('./results/golf_decision_tree_gridsearchcv_results.csv', index=False) #write CSV\n",
    "\n"
   ]
  },
  {
   "cell_type": "markdown",
   "id": "b449f8c9",
   "metadata": {},
   "source": [
    "**Observations:**\n",
    "- These numbers looks promising for an improved recall score. Let's see how the \"best\" estimator does now against the original test data.\n",
    "\n",
    "### Optimized Model Evaluation\n",
    "We use the best model output from `GridSearchCV` and plug that back into our evaluation methods from above."
   ]
  },
  {
   "cell_type": "code",
   "execution_count": 32,
   "id": "206101f4",
   "metadata": {},
   "outputs": [
    {
     "data": {
      "text/plain": [
       "<sklearn.metrics._plot.confusion_matrix.ConfusionMatrixDisplay at 0x12409fd60>"
      ]
     },
     "execution_count": 32,
     "metadata": {},
     "output_type": "execute_result"
    },
    {
     "name": "stdout",
     "output_type": "stream",
     "text": [
      "              precision    recall  f1-score   support\n",
      "\n",
      "       False       0.99      0.72      0.84      4813\n",
      "        True       0.14      0.91      0.24       235\n",
      "\n",
      "    accuracy                           0.73      5048\n",
      "   macro avg       0.57      0.81      0.54      5048\n",
      "weighted avg       0.95      0.73      0.81      5048\n",
      "\n"
     ]
    },
    {
     "data": {
      "image/png": "[encoded data removed]",
      "text/plain": [
       "<Figure size 360x360 with 2 Axes>"
      ]
     },
     "metadata": {},
     "output_type": "display_data"
    }
   ],
   "source": [
    "# get the best performing model fit on the whole training set\n",
    "best_model = result.best_estimator_\n",
    "\n",
    "# EVALUATE MODEL\n",
    "s_y_predicted = pd.Series(best_model.predict(df_X_test_enc), name=y_label)\n",
    "#accuracy_score(s_Y_test, s_Y_predicted)\n",
    "#golf_tree.score(df_X_test, s_Y_test) #returns \"score: Mean accuracy of self.predict(X) wrt. y.\"\n",
    "\n",
    "#confusion_matrix(s_Y_test, s_Y_predicted) #normalize: {‘true’, ‘pred’, ‘all’}\n",
    "fig, ax = plt.subplots(nrows=1, ncols=1, figsize=(5,5))\n",
    "ax.grid(False)\n",
    "ax.tick_params(top=True, bottom=False, labeltop=True, labelbottom=False)\n",
    "plot_confusion_matrix(best_model, df_X_test_enc, s_y_test_enc,\n",
    "                      display_labels=labelenc.classes_.astype(str), cmap='YlGn', ax=ax)\n",
    "\n",
    "print(classification_report(s_y_test_enc, s_y_predicted, target_names=labelenc.classes_.astype(str)))"
   ]
  },
  {
   "cell_type": "markdown",
   "id": "cef25475",
   "metadata": {},
   "source": [
    "**Observations:**\n",
    "- A terrace **True recall of 91% (!!)** looks almost too good to be true. A deep dive into the this \"best model\" tree is required to really understand how this is happening... But still a worth a look at feature and permutation importances as before."
   ]
  },
  {
   "cell_type": "code",
   "execution_count": 33,
   "id": "f2f62aa1",
   "metadata": {},
   "outputs": [
    {
     "data": {
      "text/html": [
       "<div>\n",
       "<style scoped>\n",
       "    .dataframe tbody tr th:only-of-type {\n",
       "        vertical-align: middle;\n",
       "    }\n",
       "\n",
       "    .dataframe tbody tr th {\n",
       "        vertical-align: top;\n",
       "    }\n",
       "\n",
       "    .dataframe thead th {\n",
       "        text-align: right;\n",
       "    }\n",
       "</style>\n",
       "<table border=\"1\" class=\"dataframe\">\n",
       "  <thead>\n",
       "    <tr style=\"text-align: right;\">\n",
       "      <th></th>\n",
       "      <th>feature_importances_</th>\n",
       "      <th>permutation_importances_train</th>\n",
       "      <th>permutation_importances_train_norm</th>\n",
       "    </tr>\n",
       "  </thead>\n",
       "  <tbody>\n",
       "    <tr>\n",
       "      <th>rating</th>\n",
       "      <td>0.205126</td>\n",
       "      <td>0.030627</td>\n",
       "      <td>0.331479</td>\n",
       "    </tr>\n",
       "    <tr>\n",
       "      <th>price</th>\n",
       "      <td>0.551903</td>\n",
       "      <td>0.020022</td>\n",
       "      <td>0.216702</td>\n",
       "    </tr>\n",
       "    <tr>\n",
       "      <th>district_Friedrichshain-Kreuzberg</th>\n",
       "      <td>0.022578</td>\n",
       "      <td>0.010299</td>\n",
       "      <td>0.111467</td>\n",
       "    </tr>\n",
       "    <tr>\n",
       "      <th>district_Pankow</th>\n",
       "      <td>0.028918</td>\n",
       "      <td>0.009870</td>\n",
       "      <td>0.106820</td>\n",
       "    </tr>\n",
       "    <tr>\n",
       "      <th>district_Charlottenburg-Wilmersdorf</th>\n",
       "      <td>0.014189</td>\n",
       "      <td>0.007527</td>\n",
       "      <td>0.081470</td>\n",
       "    </tr>\n",
       "    <tr>\n",
       "      <th>district_Tempelhof-Schöneberg</th>\n",
       "      <td>0.021859</td>\n",
       "      <td>0.006695</td>\n",
       "      <td>0.072457</td>\n",
       "    </tr>\n",
       "    <tr>\n",
       "      <th>district_Neukölln</th>\n",
       "      <td>0.020776</td>\n",
       "      <td>0.006428</td>\n",
       "      <td>0.069570</td>\n",
       "    </tr>\n",
       "    <tr>\n",
       "      <th>district_Mitte</th>\n",
       "      <td>0.024709</td>\n",
       "      <td>0.006252</td>\n",
       "      <td>0.067669</td>\n",
       "    </tr>\n",
       "    <tr>\n",
       "      <th>district_Treptow-Köpenick</th>\n",
       "      <td>0.017265</td>\n",
       "      <td>0.002472</td>\n",
       "      <td>0.026758</td>\n",
       "    </tr>\n",
       "    <tr>\n",
       "      <th>district_Lichtenberg</th>\n",
       "      <td>0.011561</td>\n",
       "      <td>0.002193</td>\n",
       "      <td>0.023730</td>\n",
       "    </tr>\n",
       "    <tr>\n",
       "      <th>district_Steglitz-Zehlendorf</th>\n",
       "      <td>0.010271</td>\n",
       "      <td>0.001906</td>\n",
       "      <td>0.020632</td>\n",
       "    </tr>\n",
       "    <tr>\n",
       "      <th>room_type_Hotel room</th>\n",
       "      <td>0.009087</td>\n",
       "      <td>0.001106</td>\n",
       "      <td>0.011971</td>\n",
       "    </tr>\n",
       "    <tr>\n",
       "      <th>district_Spandau</th>\n",
       "      <td>0.009138</td>\n",
       "      <td>0.000680</td>\n",
       "      <td>0.007358</td>\n",
       "    </tr>\n",
       "    <tr>\n",
       "      <th>district_Marzahn-Hellersdorf</th>\n",
       "      <td>0.004934</td>\n",
       "      <td>0.000511</td>\n",
       "      <td>0.005528</td>\n",
       "    </tr>\n",
       "    <tr>\n",
       "      <th>district_Reinickendorf</th>\n",
       "      <td>0.005639</td>\n",
       "      <td>0.000442</td>\n",
       "      <td>0.004788</td>\n",
       "    </tr>\n",
       "    <tr>\n",
       "      <th>room_type_Shared room</th>\n",
       "      <td>0.001556</td>\n",
       "      <td>0.000176</td>\n",
       "      <td>0.001901</td>\n",
       "    </tr>\n",
       "    <tr>\n",
       "      <th>room_type_Private room</th>\n",
       "      <td>0.009624</td>\n",
       "      <td>-0.002593</td>\n",
       "      <td>-0.028060</td>\n",
       "    </tr>\n",
       "    <tr>\n",
       "      <th>room_type_Entire home/apt</th>\n",
       "      <td>0.030866</td>\n",
       "      <td>-0.012218</td>\n",
       "      <td>-0.132240</td>\n",
       "    </tr>\n",
       "  </tbody>\n",
       "</table>\n",
       "</div>"
      ],
      "text/plain": [
       "                                     feature_importances_  \\\n",
       "rating                                           0.205126   \n",
       "price                                            0.551903   \n",
       "district_Friedrichshain-Kreuzberg                0.022578   \n",
       "district_Pankow                                  0.028918   \n",
       "district_Charlottenburg-Wilmersdorf              0.014189   \n",
       "district_Tempelhof-Schöneberg                    0.021859   \n",
       "district_Neukölln                                0.020776   \n",
       "district_Mitte                                   0.024709   \n",
       "district_Treptow-Köpenick                        0.017265   \n",
       "district_Lichtenberg                             0.011561   \n",
       "district_Steglitz-Zehlendorf                     0.010271   \n",
       "room_type_Hotel room                             0.009087   \n",
       "district_Spandau                                 0.009138   \n",
       "district_Marzahn-Hellersdorf                     0.004934   \n",
       "district_Reinickendorf                           0.005639   \n",
       "room_type_Shared room                            0.001556   \n",
       "room_type_Private room                           0.009624   \n",
       "room_type_Entire home/apt                        0.030866   \n",
       "\n",
       "                                     permutation_importances_train  \\\n",
       "rating                                                    0.030627   \n",
       "price                                                     0.020022   \n",
       "district_Friedrichshain-Kreuzberg                         0.010299   \n",
       "district_Pankow                                           0.009870   \n",
       "district_Charlottenburg-Wilmersdorf                       0.007527   \n",
       "district_Tempelhof-Schöneberg                             0.006695   \n",
       "district_Neukölln                                         0.006428   \n",
       "district_Mitte                                            0.006252   \n",
       "district_Treptow-Köpenick                                 0.002472   \n",
       "district_Lichtenberg                                      0.002193   \n",
       "district_Steglitz-Zehlendorf                              0.001906   \n",
       "room_type_Hotel room                                      0.001106   \n",
       "district_Spandau                                          0.000680   \n",
       "district_Marzahn-Hellersdorf                              0.000511   \n",
       "district_Reinickendorf                                    0.000442   \n",
       "room_type_Shared room                                     0.000176   \n",
       "room_type_Private room                                   -0.002593   \n",
       "room_type_Entire home/apt                                -0.012218   \n",
       "\n",
       "                                     permutation_importances_train_norm  \n",
       "rating                                                         0.331479  \n",
       "price                                                          0.216702  \n",
       "district_Friedrichshain-Kreuzberg                              0.111467  \n",
       "district_Pankow                                                0.106820  \n",
       "district_Charlottenburg-Wilmersdorf                            0.081470  \n",
       "district_Tempelhof-Schöneberg                                  0.072457  \n",
       "district_Neukölln                                              0.069570  \n",
       "district_Mitte                                                 0.067669  \n",
       "district_Treptow-Köpenick                                      0.026758  \n",
       "district_Lichtenberg                                           0.023730  \n",
       "district_Steglitz-Zehlendorf                                   0.020632  \n",
       "room_type_Hotel room                                           0.011971  \n",
       "district_Spandau                                               0.007358  \n",
       "district_Marzahn-Hellersdorf                                   0.005528  \n",
       "district_Reinickendorf                                         0.004788  \n",
       "room_type_Shared room                                          0.001901  \n",
       "room_type_Private room                                        -0.028060  \n",
       "room_type_Entire home/apt                                     -0.132240  "
      ]
     },
     "execution_count": 33,
     "metadata": {},
     "output_type": "execute_result"
    }
   ],
   "source": [
    "# Feature Importances calculation\n",
    "df_best_model_fi = pd.DataFrame(index=df_X_train_enc.columns)\n",
    "df_best_model_fi['feature_importances_'] = best_model.feature_importances_\n",
    "\n",
    "# Better Permutation Feature Importances\n",
    "df_best_model_fi['permutation_importances_train'] = permutation_importance(\n",
    "    best_model, df_X_train_enc, s_y_train_enc, n_repeats=30, random_state=1)['importances_mean']\n",
    "df_best_model_fi['permutation_importances_train_norm'] = df_best_model_fi[\n",
    "    'permutation_importances_train']/df_best_model_fi['permutation_importances_train'].sum()\n",
    "df_best_model_fi.sort_values(by='permutation_importances_train_norm', ascending=False)"
   ]
  },
  {
   "cell_type": "markdown",
   "id": "ab9b9e37",
   "metadata": {},
   "source": [
    "**Observations:**\n",
    "- Looking only at **permutation importance**, this metric using this optimized decision tree model tells us that the top 5 ways to find a terrace in Berlin are by looking at:\n",
    "    1. Rating\n",
    "    2. Price\n",
    "    3. Is the listing in Friedrichshain-Kreuzberg?\n",
    "    4. Is the listing in Pankow?\n",
    "    5. Is the listing in Charlottenburg-Wilmersdorf?"
   ]
  },
  {
   "cell_type": "code",
   "execution_count": null,
   "id": "f0f8e1e6",
   "metadata": {},
   "outputs": [],
   "source": []
  }
 ],
 "metadata": {
  "kernelspec": {
   "display_name": "Python 3",
   "language": "python",
   "name": "python3"
  },
  "language_info": {
   "codemirror_mode": {
    "name": "ipython",
    "version": 3
   },
   "file_extension": ".py",
   "mimetype": "text/x-python",
   "name": "python",
   "nbconvert_exporter": "python",
   "pygments_lexer": "ipython3",
   "version": "3.9.2"
  }
 },
 "nbformat": 4,
 "nbformat_minor": 5
}
